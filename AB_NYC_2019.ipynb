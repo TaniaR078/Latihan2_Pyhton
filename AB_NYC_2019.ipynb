{
  "nbformat": 4,
  "nbformat_minor": 0,
  "metadata": {
    "colab": {
      "provenance": [],
      "include_colab_link": true
    },
    "kernelspec": {
      "name": "python3",
      "display_name": "Python 3"
    },
    "language_info": {
      "name": "python"
    }
  },
  "cells": [
    {
      "cell_type": "markdown",
      "metadata": {
        "id": "view-in-github",
        "colab_type": "text"
      },
      "source": [
        "<a href=\"https://colab.research.google.com/github/TaniaR078/Latihan2_Pyhton/blob/main/AB_NYC_2019.ipynb\" target=\"_parent\"><img src=\"https://colab.research.google.com/assets/colab-badge.svg\" alt=\"Open In Colab\"/></a>"
      ]
    },
    {
      "cell_type": "code",
      "execution_count": null,
      "metadata": {
        "id": "LdGnf4a5QjO_"
      },
      "outputs": [],
      "source": [
        "import pandas as pd\n",
        "import numpy as np\n",
        "import matplotlib.pyplot as plt\n",
        "import seaborn as sns"
      ]
    },
    {
      "cell_type": "code",
      "source": [
        "import warnings\n",
        "warnings.filterwarnings('ignore')"
      ],
      "metadata": {
        "id": "bwjOEj7SQ4Ou"
      },
      "execution_count": null,
      "outputs": []
    },
    {
      "cell_type": "markdown",
      "source": [
        "# Ekplorasi Data Awal"
      ],
      "metadata": {
        "id": "7ebBGZLTQ63k"
      }
    },
    {
      "cell_type": "code",
      "source": [
        "# Load data kita ke sebuah dataframe\n",
        "data = pd.read_excel('AB_NYC_2019.xlsx')"
      ],
      "metadata": {
        "id": "CpnU9QIRQ4yU"
      },
      "execution_count": null,
      "outputs": []
    },
    {
      "cell_type": "code",
      "source": [
        "# tampilkan jumlah baris dan data\n",
        "data.shape"
      ],
      "metadata": {
        "id": "GcMUGC4oRPM2",
        "colab": {
          "base_uri": "https://localhost:8080/"
        },
        "outputId": "db135776-b39a-4443-eb40-946b676ffdea"
      },
      "execution_count": null,
      "outputs": [
        {
          "output_type": "execute_result",
          "data": {
            "text/plain": [
              "(5018, 15)"
            ]
          },
          "metadata": {},
          "execution_count": 24
        }
      ]
    },
    {
      "cell_type": "code",
      "source": [
        "# tampilkan 10 baris pertama\n",
        "data.head(10)"
      ],
      "metadata": {
        "id": "N3JtUWFoR0JJ",
        "colab": {
          "base_uri": "https://localhost:8080/",
          "height": 782
        },
        "outputId": "4641b0b2-917c-4420-f832-d08a8066b089"
      },
      "execution_count": null,
      "outputs": [
        {
          "output_type": "execute_result",
          "data": {
            "text/plain": [
              "         id                                             name    host_id  \\\n",
              "0  34229869                           Cozy Living Room Futon   27537930   \n",
              "1  31568673         Large private room w/ 2 built-in closets  236631469   \n",
              "2  36199363  Furnished room  for rent in Bronx SINGLE FEMALE  272247972   \n",
              "3  34180340                            Sunny & Spacious Room  181233778   \n",
              "4  32364762                                            Bronx   19303369   \n",
              "5  19054683                 Fully-furnished modern apartment   97907084   \n",
              "6  36243183                         Spacious private room #2   35783912   \n",
              "7  33528562     Private, warm & inviting contemporary space.  252641467   \n",
              "8  18442048                          Clean-N-Comfy Bronx Pad   25385574   \n",
              "9  36243240                         spacious private room #3   35783912   \n",
              "\n",
              "    host_name neighbourhood_group   neighbourhood  latitude  longitude  \\\n",
              "0     Preston               Bronx  Pelham Gardens  40.86209  -73.84667   \n",
              "1      Paloma              Bronxx  Williamsbridge  40.88449  -73.86227   \n",
              "2      Kadeen              Bronxx       Olinville  40.88116  -73.86547   \n",
              "3      Aishah              Bronxx         Belmont  40.85595  -73.88519   \n",
              "4      Hiroki              Bronxx     Kingsbridge  40.88474  -73.90321   \n",
              "5         Kim              Bronxx       Wakefield  40.90281  -73.85201   \n",
              "6    Pi & Leo              Bronxx         Fordham  40.86264  -73.89139   \n",
              "7  Antoinette               Bronx       Wakefield  40.88491  -73.85484   \n",
              "8         Che               Bronx        Allerton  40.86718  -73.86235   \n",
              "9    Pi & Leo               Bronx         Fordham  40.86263  -73.89088   \n",
              "\n",
              "         room_type  price  minimum_nights  number_of_reviews last_review  \\\n",
              "0      Shared room   20.0               1                NaN         NaT   \n",
              "1     Private room   25.0              30                NaN         NaT   \n",
              "2      Shared room   25.0              90                NaN         NaT   \n",
              "3     Private room   27.0              30                NaN         NaT   \n",
              "4     Private room   27.0              30                NaN         NaT   \n",
              "5  Entire home/apt   28.0               1                NaN         NaT   \n",
              "6     Private room   29.0               2                NaN         NaT   \n",
              "7     Private room   33.0               1                NaN         NaT   \n",
              "8     Private room   33.0               1                NaN         NaT   \n",
              "9     Private room   33.0               2                NaN         NaT   \n",
              "\n",
              "   reviews_per_month  availability_365  \n",
              "0                NaN                 5  \n",
              "1                NaN                85  \n",
              "2                NaN               190  \n",
              "3                NaN                68  \n",
              "4                NaN                 0  \n",
              "5                NaN                 0  \n",
              "6                NaN                81  \n",
              "7                NaN               116  \n",
              "8                NaN               179  \n",
              "9                NaN                84  "
            ],
            "text/html": [
              "\n",
              "  <div id=\"df-5a22262f-78e2-4a96-af60-2f871b8d1a11\" class=\"colab-df-container\">\n",
              "    <div>\n",
              "<style scoped>\n",
              "    .dataframe tbody tr th:only-of-type {\n",
              "        vertical-align: middle;\n",
              "    }\n",
              "\n",
              "    .dataframe tbody tr th {\n",
              "        vertical-align: top;\n",
              "    }\n",
              "\n",
              "    .dataframe thead th {\n",
              "        text-align: right;\n",
              "    }\n",
              "</style>\n",
              "<table border=\"1\" class=\"dataframe\">\n",
              "  <thead>\n",
              "    <tr style=\"text-align: right;\">\n",
              "      <th></th>\n",
              "      <th>id</th>\n",
              "      <th>name</th>\n",
              "      <th>host_id</th>\n",
              "      <th>host_name</th>\n",
              "      <th>neighbourhood_group</th>\n",
              "      <th>neighbourhood</th>\n",
              "      <th>latitude</th>\n",
              "      <th>longitude</th>\n",
              "      <th>room_type</th>\n",
              "      <th>price</th>\n",
              "      <th>minimum_nights</th>\n",
              "      <th>number_of_reviews</th>\n",
              "      <th>last_review</th>\n",
              "      <th>reviews_per_month</th>\n",
              "      <th>availability_365</th>\n",
              "    </tr>\n",
              "  </thead>\n",
              "  <tbody>\n",
              "    <tr>\n",
              "      <th>0</th>\n",
              "      <td>34229869</td>\n",
              "      <td>Cozy Living Room Futon</td>\n",
              "      <td>27537930</td>\n",
              "      <td>Preston</td>\n",
              "      <td>Bronx</td>\n",
              "      <td>Pelham Gardens</td>\n",
              "      <td>40.86209</td>\n",
              "      <td>-73.84667</td>\n",
              "      <td>Shared room</td>\n",
              "      <td>20.0</td>\n",
              "      <td>1</td>\n",
              "      <td>NaN</td>\n",
              "      <td>NaT</td>\n",
              "      <td>NaN</td>\n",
              "      <td>5</td>\n",
              "    </tr>\n",
              "    <tr>\n",
              "      <th>1</th>\n",
              "      <td>31568673</td>\n",
              "      <td>Large private room w/ 2 built-in closets</td>\n",
              "      <td>236631469</td>\n",
              "      <td>Paloma</td>\n",
              "      <td>Bronxx</td>\n",
              "      <td>Williamsbridge</td>\n",
              "      <td>40.88449</td>\n",
              "      <td>-73.86227</td>\n",
              "      <td>Private room</td>\n",
              "      <td>25.0</td>\n",
              "      <td>30</td>\n",
              "      <td>NaN</td>\n",
              "      <td>NaT</td>\n",
              "      <td>NaN</td>\n",
              "      <td>85</td>\n",
              "    </tr>\n",
              "    <tr>\n",
              "      <th>2</th>\n",
              "      <td>36199363</td>\n",
              "      <td>Furnished room  for rent in Bronx SINGLE FEMALE</td>\n",
              "      <td>272247972</td>\n",
              "      <td>Kadeen</td>\n",
              "      <td>Bronxx</td>\n",
              "      <td>Olinville</td>\n",
              "      <td>40.88116</td>\n",
              "      <td>-73.86547</td>\n",
              "      <td>Shared room</td>\n",
              "      <td>25.0</td>\n",
              "      <td>90</td>\n",
              "      <td>NaN</td>\n",
              "      <td>NaT</td>\n",
              "      <td>NaN</td>\n",
              "      <td>190</td>\n",
              "    </tr>\n",
              "    <tr>\n",
              "      <th>3</th>\n",
              "      <td>34180340</td>\n",
              "      <td>Sunny &amp; Spacious Room</td>\n",
              "      <td>181233778</td>\n",
              "      <td>Aishah</td>\n",
              "      <td>Bronxx</td>\n",
              "      <td>Belmont</td>\n",
              "      <td>40.85595</td>\n",
              "      <td>-73.88519</td>\n",
              "      <td>Private room</td>\n",
              "      <td>27.0</td>\n",
              "      <td>30</td>\n",
              "      <td>NaN</td>\n",
              "      <td>NaT</td>\n",
              "      <td>NaN</td>\n",
              "      <td>68</td>\n",
              "    </tr>\n",
              "    <tr>\n",
              "      <th>4</th>\n",
              "      <td>32364762</td>\n",
              "      <td>Bronx</td>\n",
              "      <td>19303369</td>\n",
              "      <td>Hiroki</td>\n",
              "      <td>Bronxx</td>\n",
              "      <td>Kingsbridge</td>\n",
              "      <td>40.88474</td>\n",
              "      <td>-73.90321</td>\n",
              "      <td>Private room</td>\n",
              "      <td>27.0</td>\n",
              "      <td>30</td>\n",
              "      <td>NaN</td>\n",
              "      <td>NaT</td>\n",
              "      <td>NaN</td>\n",
              "      <td>0</td>\n",
              "    </tr>\n",
              "    <tr>\n",
              "      <th>5</th>\n",
              "      <td>19054683</td>\n",
              "      <td>Fully-furnished modern apartment</td>\n",
              "      <td>97907084</td>\n",
              "      <td>Kim</td>\n",
              "      <td>Bronxx</td>\n",
              "      <td>Wakefield</td>\n",
              "      <td>40.90281</td>\n",
              "      <td>-73.85201</td>\n",
              "      <td>Entire home/apt</td>\n",
              "      <td>28.0</td>\n",
              "      <td>1</td>\n",
              "      <td>NaN</td>\n",
              "      <td>NaT</td>\n",
              "      <td>NaN</td>\n",
              "      <td>0</td>\n",
              "    </tr>\n",
              "    <tr>\n",
              "      <th>6</th>\n",
              "      <td>36243183</td>\n",
              "      <td>Spacious private room #2</td>\n",
              "      <td>35783912</td>\n",
              "      <td>Pi &amp; Leo</td>\n",
              "      <td>Bronxx</td>\n",
              "      <td>Fordham</td>\n",
              "      <td>40.86264</td>\n",
              "      <td>-73.89139</td>\n",
              "      <td>Private room</td>\n",
              "      <td>29.0</td>\n",
              "      <td>2</td>\n",
              "      <td>NaN</td>\n",
              "      <td>NaT</td>\n",
              "      <td>NaN</td>\n",
              "      <td>81</td>\n",
              "    </tr>\n",
              "    <tr>\n",
              "      <th>7</th>\n",
              "      <td>33528562</td>\n",
              "      <td>Private, warm &amp; inviting contemporary space.</td>\n",
              "      <td>252641467</td>\n",
              "      <td>Antoinette</td>\n",
              "      <td>Bronx</td>\n",
              "      <td>Wakefield</td>\n",
              "      <td>40.88491</td>\n",
              "      <td>-73.85484</td>\n",
              "      <td>Private room</td>\n",
              "      <td>33.0</td>\n",
              "      <td>1</td>\n",
              "      <td>NaN</td>\n",
              "      <td>NaT</td>\n",
              "      <td>NaN</td>\n",
              "      <td>116</td>\n",
              "    </tr>\n",
              "    <tr>\n",
              "      <th>8</th>\n",
              "      <td>18442048</td>\n",
              "      <td>Clean-N-Comfy Bronx Pad</td>\n",
              "      <td>25385574</td>\n",
              "      <td>Che</td>\n",
              "      <td>Bronx</td>\n",
              "      <td>Allerton</td>\n",
              "      <td>40.86718</td>\n",
              "      <td>-73.86235</td>\n",
              "      <td>Private room</td>\n",
              "      <td>33.0</td>\n",
              "      <td>1</td>\n",
              "      <td>NaN</td>\n",
              "      <td>NaT</td>\n",
              "      <td>NaN</td>\n",
              "      <td>179</td>\n",
              "    </tr>\n",
              "    <tr>\n",
              "      <th>9</th>\n",
              "      <td>36243240</td>\n",
              "      <td>spacious private room #3</td>\n",
              "      <td>35783912</td>\n",
              "      <td>Pi &amp; Leo</td>\n",
              "      <td>Bronx</td>\n",
              "      <td>Fordham</td>\n",
              "      <td>40.86263</td>\n",
              "      <td>-73.89088</td>\n",
              "      <td>Private room</td>\n",
              "      <td>33.0</td>\n",
              "      <td>2</td>\n",
              "      <td>NaN</td>\n",
              "      <td>NaT</td>\n",
              "      <td>NaN</td>\n",
              "      <td>84</td>\n",
              "    </tr>\n",
              "  </tbody>\n",
              "</table>\n",
              "</div>\n",
              "    <div class=\"colab-df-buttons\">\n",
              "\n",
              "  <div class=\"colab-df-container\">\n",
              "    <button class=\"colab-df-convert\" onclick=\"convertToInteractive('df-5a22262f-78e2-4a96-af60-2f871b8d1a11')\"\n",
              "            title=\"Convert this dataframe to an interactive table.\"\n",
              "            style=\"display:none;\">\n",
              "\n",
              "  <svg xmlns=\"http://www.w3.org/2000/svg\" height=\"24px\" viewBox=\"0 -960 960 960\">\n",
              "    <path d=\"M120-120v-720h720v720H120Zm60-500h600v-160H180v160Zm220 220h160v-160H400v160Zm0 220h160v-160H400v160ZM180-400h160v-160H180v160Zm440 0h160v-160H620v160ZM180-180h160v-160H180v160Zm440 0h160v-160H620v160Z\"/>\n",
              "  </svg>\n",
              "    </button>\n",
              "\n",
              "  <style>\n",
              "    .colab-df-container {\n",
              "      display:flex;\n",
              "      gap: 12px;\n",
              "    }\n",
              "\n",
              "    .colab-df-convert {\n",
              "      background-color: #E8F0FE;\n",
              "      border: none;\n",
              "      border-radius: 50%;\n",
              "      cursor: pointer;\n",
              "      display: none;\n",
              "      fill: #1967D2;\n",
              "      height: 32px;\n",
              "      padding: 0 0 0 0;\n",
              "      width: 32px;\n",
              "    }\n",
              "\n",
              "    .colab-df-convert:hover {\n",
              "      background-color: #E2EBFA;\n",
              "      box-shadow: 0px 1px 2px rgba(60, 64, 67, 0.3), 0px 1px 3px 1px rgba(60, 64, 67, 0.15);\n",
              "      fill: #174EA6;\n",
              "    }\n",
              "\n",
              "    .colab-df-buttons div {\n",
              "      margin-bottom: 4px;\n",
              "    }\n",
              "\n",
              "    [theme=dark] .colab-df-convert {\n",
              "      background-color: #3B4455;\n",
              "      fill: #D2E3FC;\n",
              "    }\n",
              "\n",
              "    [theme=dark] .colab-df-convert:hover {\n",
              "      background-color: #434B5C;\n",
              "      box-shadow: 0px 1px 3px 1px rgba(0, 0, 0, 0.15);\n",
              "      filter: drop-shadow(0px 1px 2px rgba(0, 0, 0, 0.3));\n",
              "      fill: #FFFFFF;\n",
              "    }\n",
              "  </style>\n",
              "\n",
              "    <script>\n",
              "      const buttonEl =\n",
              "        document.querySelector('#df-5a22262f-78e2-4a96-af60-2f871b8d1a11 button.colab-df-convert');\n",
              "      buttonEl.style.display =\n",
              "        google.colab.kernel.accessAllowed ? 'block' : 'none';\n",
              "\n",
              "      async function convertToInteractive(key) {\n",
              "        const element = document.querySelector('#df-5a22262f-78e2-4a96-af60-2f871b8d1a11');\n",
              "        const dataTable =\n",
              "          await google.colab.kernel.invokeFunction('convertToInteractive',\n",
              "                                                    [key], {});\n",
              "        if (!dataTable) return;\n",
              "\n",
              "        const docLinkHtml = 'Like what you see? Visit the ' +\n",
              "          '<a target=\"_blank\" href=https://colab.research.google.com/notebooks/data_table.ipynb>data table notebook</a>'\n",
              "          + ' to learn more about interactive tables.';\n",
              "        element.innerHTML = '';\n",
              "        dataTable['output_type'] = 'display_data';\n",
              "        await google.colab.output.renderOutput(dataTable, element);\n",
              "        const docLink = document.createElement('div');\n",
              "        docLink.innerHTML = docLinkHtml;\n",
              "        element.appendChild(docLink);\n",
              "      }\n",
              "    </script>\n",
              "  </div>\n",
              "\n",
              "\n",
              "<div id=\"df-bf0d0d63-4c3f-45a6-a70b-c065fb4a7f4a\">\n",
              "  <button class=\"colab-df-quickchart\" onclick=\"quickchart('df-bf0d0d63-4c3f-45a6-a70b-c065fb4a7f4a')\"\n",
              "            title=\"Suggest charts.\"\n",
              "            style=\"display:none;\">\n",
              "\n",
              "<svg xmlns=\"http://www.w3.org/2000/svg\" height=\"24px\"viewBox=\"0 0 24 24\"\n",
              "     width=\"24px\">\n",
              "    <g>\n",
              "        <path d=\"M19 3H5c-1.1 0-2 .9-2 2v14c0 1.1.9 2 2 2h14c1.1 0 2-.9 2-2V5c0-1.1-.9-2-2-2zM9 17H7v-7h2v7zm4 0h-2V7h2v10zm4 0h-2v-4h2v4z\"/>\n",
              "    </g>\n",
              "</svg>\n",
              "  </button>\n",
              "\n",
              "<style>\n",
              "  .colab-df-quickchart {\n",
              "      --bg-color: #E8F0FE;\n",
              "      --fill-color: #1967D2;\n",
              "      --hover-bg-color: #E2EBFA;\n",
              "      --hover-fill-color: #174EA6;\n",
              "      --disabled-fill-color: #AAA;\n",
              "      --disabled-bg-color: #DDD;\n",
              "  }\n",
              "\n",
              "  [theme=dark] .colab-df-quickchart {\n",
              "      --bg-color: #3B4455;\n",
              "      --fill-color: #D2E3FC;\n",
              "      --hover-bg-color: #434B5C;\n",
              "      --hover-fill-color: #FFFFFF;\n",
              "      --disabled-bg-color: #3B4455;\n",
              "      --disabled-fill-color: #666;\n",
              "  }\n",
              "\n",
              "  .colab-df-quickchart {\n",
              "    background-color: var(--bg-color);\n",
              "    border: none;\n",
              "    border-radius: 50%;\n",
              "    cursor: pointer;\n",
              "    display: none;\n",
              "    fill: var(--fill-color);\n",
              "    height: 32px;\n",
              "    padding: 0;\n",
              "    width: 32px;\n",
              "  }\n",
              "\n",
              "  .colab-df-quickchart:hover {\n",
              "    background-color: var(--hover-bg-color);\n",
              "    box-shadow: 0 1px 2px rgba(60, 64, 67, 0.3), 0 1px 3px 1px rgba(60, 64, 67, 0.15);\n",
              "    fill: var(--button-hover-fill-color);\n",
              "  }\n",
              "\n",
              "  .colab-df-quickchart-complete:disabled,\n",
              "  .colab-df-quickchart-complete:disabled:hover {\n",
              "    background-color: var(--disabled-bg-color);\n",
              "    fill: var(--disabled-fill-color);\n",
              "    box-shadow: none;\n",
              "  }\n",
              "\n",
              "  .colab-df-spinner {\n",
              "    border: 2px solid var(--fill-color);\n",
              "    border-color: transparent;\n",
              "    border-bottom-color: var(--fill-color);\n",
              "    animation:\n",
              "      spin 1s steps(1) infinite;\n",
              "  }\n",
              "\n",
              "  @keyframes spin {\n",
              "    0% {\n",
              "      border-color: transparent;\n",
              "      border-bottom-color: var(--fill-color);\n",
              "      border-left-color: var(--fill-color);\n",
              "    }\n",
              "    20% {\n",
              "      border-color: transparent;\n",
              "      border-left-color: var(--fill-color);\n",
              "      border-top-color: var(--fill-color);\n",
              "    }\n",
              "    30% {\n",
              "      border-color: transparent;\n",
              "      border-left-color: var(--fill-color);\n",
              "      border-top-color: var(--fill-color);\n",
              "      border-right-color: var(--fill-color);\n",
              "    }\n",
              "    40% {\n",
              "      border-color: transparent;\n",
              "      border-right-color: var(--fill-color);\n",
              "      border-top-color: var(--fill-color);\n",
              "    }\n",
              "    60% {\n",
              "      border-color: transparent;\n",
              "      border-right-color: var(--fill-color);\n",
              "    }\n",
              "    80% {\n",
              "      border-color: transparent;\n",
              "      border-right-color: var(--fill-color);\n",
              "      border-bottom-color: var(--fill-color);\n",
              "    }\n",
              "    90% {\n",
              "      border-color: transparent;\n",
              "      border-bottom-color: var(--fill-color);\n",
              "    }\n",
              "  }\n",
              "</style>\n",
              "\n",
              "  <script>\n",
              "    async function quickchart(key) {\n",
              "      const quickchartButtonEl =\n",
              "        document.querySelector('#' + key + ' button');\n",
              "      quickchartButtonEl.disabled = true;  // To prevent multiple clicks.\n",
              "      quickchartButtonEl.classList.add('colab-df-spinner');\n",
              "      try {\n",
              "        const charts = await google.colab.kernel.invokeFunction(\n",
              "            'suggestCharts', [key], {});\n",
              "      } catch (error) {\n",
              "        console.error('Error during call to suggestCharts:', error);\n",
              "      }\n",
              "      quickchartButtonEl.classList.remove('colab-df-spinner');\n",
              "      quickchartButtonEl.classList.add('colab-df-quickchart-complete');\n",
              "    }\n",
              "    (() => {\n",
              "      let quickchartButtonEl =\n",
              "        document.querySelector('#df-bf0d0d63-4c3f-45a6-a70b-c065fb4a7f4a button');\n",
              "      quickchartButtonEl.style.display =\n",
              "        google.colab.kernel.accessAllowed ? 'block' : 'none';\n",
              "    })();\n",
              "  </script>\n",
              "</div>\n",
              "    </div>\n",
              "  </div>\n"
            ]
          },
          "metadata": {},
          "execution_count": 25
        }
      ]
    },
    {
      "cell_type": "markdown",
      "source": [
        "# DATA CLEANING"
      ],
      "metadata": {
        "id": "0qedgOZ9SKOu"
      }
    },
    {
      "cell_type": "markdown",
      "source": [
        "## 1. Pengecekan Missing Value"
      ],
      "metadata": {
        "id": "URPEhfPHSTeS"
      }
    },
    {
      "cell_type": "code",
      "source": [
        "# lihat informasi dari data kita\n",
        "data.info()"
      ],
      "metadata": {
        "id": "64Q2GGhLSARB",
        "colab": {
          "base_uri": "https://localhost:8080/"
        },
        "outputId": "94741c07-a733-4feb-cb0e-f8f04080d2d9"
      },
      "execution_count": null,
      "outputs": [
        {
          "output_type": "stream",
          "name": "stdout",
          "text": [
            "<class 'pandas.core.frame.DataFrame'>\n",
            "RangeIndex: 5018 entries, 0 to 5017\n",
            "Data columns (total 15 columns):\n",
            " #   Column               Non-Null Count  Dtype         \n",
            "---  ------               --------------  -----         \n",
            " 0   id                   5018 non-null   int64         \n",
            " 1   name                 5017 non-null   object        \n",
            " 2   host_id              5018 non-null   int64         \n",
            " 3   host_name            5016 non-null   object        \n",
            " 4   neighbourhood_group  5018 non-null   object        \n",
            " 5   neighbourhood        5018 non-null   object        \n",
            " 6   latitude             5018 non-null   float64       \n",
            " 7   longitude            5018 non-null   float64       \n",
            " 8   room_type            5018 non-null   object        \n",
            " 9   price                4966 non-null   float64       \n",
            " 10  minimum_nights       5018 non-null   int64         \n",
            " 11  number_of_reviews    4143 non-null   float64       \n",
            " 12  last_review          4143 non-null   datetime64[ns]\n",
            " 13  reviews_per_month    4143 non-null   float64       \n",
            " 14  availability_365     5018 non-null   int64         \n",
            "dtypes: datetime64[ns](1), float64(5), int64(4), object(5)\n",
            "memory usage: 588.2+ KB\n"
          ]
        }
      ]
    },
    {
      "cell_type": "markdown",
      "source": [
        "Terdapat 6 kolom yang memiliki missing value. kita akan incestigasi lebih lanjut"
      ],
      "metadata": {
        "id": "ZfBkLutfSrsE"
      }
    },
    {
      "cell_type": "code",
      "source": [
        "# hitung jumlah missing value di tiap kolom\n",
        "data.isna().sum()"
      ],
      "metadata": {
        "id": "L-BnkuYHSo_U",
        "colab": {
          "base_uri": "https://localhost:8080/"
        },
        "outputId": "61bf6163-252e-46c0-8162-680392ea394a"
      },
      "execution_count": null,
      "outputs": [
        {
          "output_type": "execute_result",
          "data": {
            "text/plain": [
              "id                       0\n",
              "name                     1\n",
              "host_id                  0\n",
              "host_name                2\n",
              "neighbourhood_group      0\n",
              "neighbourhood            0\n",
              "latitude                 0\n",
              "longitude                0\n",
              "room_type                0\n",
              "price                   52\n",
              "minimum_nights           0\n",
              "number_of_reviews      875\n",
              "last_review            875\n",
              "reviews_per_month      875\n",
              "availability_365         0\n",
              "dtype: int64"
            ]
          },
          "metadata": {},
          "execution_count": 27
        }
      ]
    },
    {
      "cell_type": "code",
      "source": [
        "# hitung proporsi missing value di tiap kolom\n",
        "(data.isna().sum() / data.shape[0]) * 100"
      ],
      "metadata": {
        "id": "DICAcfRNS4jh",
        "colab": {
          "base_uri": "https://localhost:8080/"
        },
        "outputId": "a7472c64-6721-43e2-82d4-1cdc07948c7b"
      },
      "execution_count": null,
      "outputs": [
        {
          "output_type": "execute_result",
          "data": {
            "text/plain": [
              "id                      0.000000\n",
              "name                    0.019928\n",
              "host_id                 0.000000\n",
              "host_name               0.039857\n",
              "neighbourhood_group     0.000000\n",
              "neighbourhood           0.000000\n",
              "latitude                0.000000\n",
              "longitude               0.000000\n",
              "room_type               0.000000\n",
              "price                   1.036269\n",
              "minimum_nights          0.000000\n",
              "number_of_reviews      17.437226\n",
              "last_review            17.437226\n",
              "reviews_per_month      17.437226\n",
              "availability_365        0.000000\n",
              "dtype: float64"
            ]
          },
          "metadata": {},
          "execution_count": 28
        }
      ]
    },
    {
      "cell_type": "code",
      "source": [
        "# filter dataframe untuk menampilkan baris yang nilainya null di salah satu kolom\n",
        "data[data['number_of_reviews'].isna()].head(5)"
      ],
      "metadata": {
        "id": "8g1sgbllS99C",
        "colab": {
          "base_uri": "https://localhost:8080/",
          "height": 486
        },
        "outputId": "8376f4a3-8f3a-4e38-eac5-e0cbe061597a"
      },
      "execution_count": null,
      "outputs": [
        {
          "output_type": "execute_result",
          "data": {
            "text/plain": [
              "         id                                             name    host_id  \\\n",
              "0  34229869                           Cozy Living Room Futon   27537930   \n",
              "1  31568673         Large private room w/ 2 built-in closets  236631469   \n",
              "2  36199363  Furnished room  for rent in Bronx SINGLE FEMALE  272247972   \n",
              "3  34180340                            Sunny & Spacious Room  181233778   \n",
              "4  32364762                                            Bronx   19303369   \n",
              "\n",
              "  host_name neighbourhood_group   neighbourhood  latitude  longitude  \\\n",
              "0   Preston               Bronx  Pelham Gardens  40.86209  -73.84667   \n",
              "1    Paloma              Bronxx  Williamsbridge  40.88449  -73.86227   \n",
              "2    Kadeen              Bronxx       Olinville  40.88116  -73.86547   \n",
              "3    Aishah              Bronxx         Belmont  40.85595  -73.88519   \n",
              "4    Hiroki              Bronxx     Kingsbridge  40.88474  -73.90321   \n",
              "\n",
              "      room_type  price  minimum_nights  number_of_reviews last_review  \\\n",
              "0   Shared room   20.0               1                NaN         NaT   \n",
              "1  Private room   25.0              30                NaN         NaT   \n",
              "2   Shared room   25.0              90                NaN         NaT   \n",
              "3  Private room   27.0              30                NaN         NaT   \n",
              "4  Private room   27.0              30                NaN         NaT   \n",
              "\n",
              "   reviews_per_month  availability_365  \n",
              "0                NaN                 5  \n",
              "1                NaN                85  \n",
              "2                NaN               190  \n",
              "3                NaN                68  \n",
              "4                NaN                 0  "
            ],
            "text/html": [
              "\n",
              "  <div id=\"df-233ce6f1-5ee9-48f7-b5b6-92eaa60607dd\" class=\"colab-df-container\">\n",
              "    <div>\n",
              "<style scoped>\n",
              "    .dataframe tbody tr th:only-of-type {\n",
              "        vertical-align: middle;\n",
              "    }\n",
              "\n",
              "    .dataframe tbody tr th {\n",
              "        vertical-align: top;\n",
              "    }\n",
              "\n",
              "    .dataframe thead th {\n",
              "        text-align: right;\n",
              "    }\n",
              "</style>\n",
              "<table border=\"1\" class=\"dataframe\">\n",
              "  <thead>\n",
              "    <tr style=\"text-align: right;\">\n",
              "      <th></th>\n",
              "      <th>id</th>\n",
              "      <th>name</th>\n",
              "      <th>host_id</th>\n",
              "      <th>host_name</th>\n",
              "      <th>neighbourhood_group</th>\n",
              "      <th>neighbourhood</th>\n",
              "      <th>latitude</th>\n",
              "      <th>longitude</th>\n",
              "      <th>room_type</th>\n",
              "      <th>price</th>\n",
              "      <th>minimum_nights</th>\n",
              "      <th>number_of_reviews</th>\n",
              "      <th>last_review</th>\n",
              "      <th>reviews_per_month</th>\n",
              "      <th>availability_365</th>\n",
              "    </tr>\n",
              "  </thead>\n",
              "  <tbody>\n",
              "    <tr>\n",
              "      <th>0</th>\n",
              "      <td>34229869</td>\n",
              "      <td>Cozy Living Room Futon</td>\n",
              "      <td>27537930</td>\n",
              "      <td>Preston</td>\n",
              "      <td>Bronx</td>\n",
              "      <td>Pelham Gardens</td>\n",
              "      <td>40.86209</td>\n",
              "      <td>-73.84667</td>\n",
              "      <td>Shared room</td>\n",
              "      <td>20.0</td>\n",
              "      <td>1</td>\n",
              "      <td>NaN</td>\n",
              "      <td>NaT</td>\n",
              "      <td>NaN</td>\n",
              "      <td>5</td>\n",
              "    </tr>\n",
              "    <tr>\n",
              "      <th>1</th>\n",
              "      <td>31568673</td>\n",
              "      <td>Large private room w/ 2 built-in closets</td>\n",
              "      <td>236631469</td>\n",
              "      <td>Paloma</td>\n",
              "      <td>Bronxx</td>\n",
              "      <td>Williamsbridge</td>\n",
              "      <td>40.88449</td>\n",
              "      <td>-73.86227</td>\n",
              "      <td>Private room</td>\n",
              "      <td>25.0</td>\n",
              "      <td>30</td>\n",
              "      <td>NaN</td>\n",
              "      <td>NaT</td>\n",
              "      <td>NaN</td>\n",
              "      <td>85</td>\n",
              "    </tr>\n",
              "    <tr>\n",
              "      <th>2</th>\n",
              "      <td>36199363</td>\n",
              "      <td>Furnished room  for rent in Bronx SINGLE FEMALE</td>\n",
              "      <td>272247972</td>\n",
              "      <td>Kadeen</td>\n",
              "      <td>Bronxx</td>\n",
              "      <td>Olinville</td>\n",
              "      <td>40.88116</td>\n",
              "      <td>-73.86547</td>\n",
              "      <td>Shared room</td>\n",
              "      <td>25.0</td>\n",
              "      <td>90</td>\n",
              "      <td>NaN</td>\n",
              "      <td>NaT</td>\n",
              "      <td>NaN</td>\n",
              "      <td>190</td>\n",
              "    </tr>\n",
              "    <tr>\n",
              "      <th>3</th>\n",
              "      <td>34180340</td>\n",
              "      <td>Sunny &amp; Spacious Room</td>\n",
              "      <td>181233778</td>\n",
              "      <td>Aishah</td>\n",
              "      <td>Bronxx</td>\n",
              "      <td>Belmont</td>\n",
              "      <td>40.85595</td>\n",
              "      <td>-73.88519</td>\n",
              "      <td>Private room</td>\n",
              "      <td>27.0</td>\n",
              "      <td>30</td>\n",
              "      <td>NaN</td>\n",
              "      <td>NaT</td>\n",
              "      <td>NaN</td>\n",
              "      <td>68</td>\n",
              "    </tr>\n",
              "    <tr>\n",
              "      <th>4</th>\n",
              "      <td>32364762</td>\n",
              "      <td>Bronx</td>\n",
              "      <td>19303369</td>\n",
              "      <td>Hiroki</td>\n",
              "      <td>Bronxx</td>\n",
              "      <td>Kingsbridge</td>\n",
              "      <td>40.88474</td>\n",
              "      <td>-73.90321</td>\n",
              "      <td>Private room</td>\n",
              "      <td>27.0</td>\n",
              "      <td>30</td>\n",
              "      <td>NaN</td>\n",
              "      <td>NaT</td>\n",
              "      <td>NaN</td>\n",
              "      <td>0</td>\n",
              "    </tr>\n",
              "  </tbody>\n",
              "</table>\n",
              "</div>\n",
              "    <div class=\"colab-df-buttons\">\n",
              "\n",
              "  <div class=\"colab-df-container\">\n",
              "    <button class=\"colab-df-convert\" onclick=\"convertToInteractive('df-233ce6f1-5ee9-48f7-b5b6-92eaa60607dd')\"\n",
              "            title=\"Convert this dataframe to an interactive table.\"\n",
              "            style=\"display:none;\">\n",
              "\n",
              "  <svg xmlns=\"http://www.w3.org/2000/svg\" height=\"24px\" viewBox=\"0 -960 960 960\">\n",
              "    <path d=\"M120-120v-720h720v720H120Zm60-500h600v-160H180v160Zm220 220h160v-160H400v160Zm0 220h160v-160H400v160ZM180-400h160v-160H180v160Zm440 0h160v-160H620v160ZM180-180h160v-160H180v160Zm440 0h160v-160H620v160Z\"/>\n",
              "  </svg>\n",
              "    </button>\n",
              "\n",
              "  <style>\n",
              "    .colab-df-container {\n",
              "      display:flex;\n",
              "      gap: 12px;\n",
              "    }\n",
              "\n",
              "    .colab-df-convert {\n",
              "      background-color: #E8F0FE;\n",
              "      border: none;\n",
              "      border-radius: 50%;\n",
              "      cursor: pointer;\n",
              "      display: none;\n",
              "      fill: #1967D2;\n",
              "      height: 32px;\n",
              "      padding: 0 0 0 0;\n",
              "      width: 32px;\n",
              "    }\n",
              "\n",
              "    .colab-df-convert:hover {\n",
              "      background-color: #E2EBFA;\n",
              "      box-shadow: 0px 1px 2px rgba(60, 64, 67, 0.3), 0px 1px 3px 1px rgba(60, 64, 67, 0.15);\n",
              "      fill: #174EA6;\n",
              "    }\n",
              "\n",
              "    .colab-df-buttons div {\n",
              "      margin-bottom: 4px;\n",
              "    }\n",
              "\n",
              "    [theme=dark] .colab-df-convert {\n",
              "      background-color: #3B4455;\n",
              "      fill: #D2E3FC;\n",
              "    }\n",
              "\n",
              "    [theme=dark] .colab-df-convert:hover {\n",
              "      background-color: #434B5C;\n",
              "      box-shadow: 0px 1px 3px 1px rgba(0, 0, 0, 0.15);\n",
              "      filter: drop-shadow(0px 1px 2px rgba(0, 0, 0, 0.3));\n",
              "      fill: #FFFFFF;\n",
              "    }\n",
              "  </style>\n",
              "\n",
              "    <script>\n",
              "      const buttonEl =\n",
              "        document.querySelector('#df-233ce6f1-5ee9-48f7-b5b6-92eaa60607dd button.colab-df-convert');\n",
              "      buttonEl.style.display =\n",
              "        google.colab.kernel.accessAllowed ? 'block' : 'none';\n",
              "\n",
              "      async function convertToInteractive(key) {\n",
              "        const element = document.querySelector('#df-233ce6f1-5ee9-48f7-b5b6-92eaa60607dd');\n",
              "        const dataTable =\n",
              "          await google.colab.kernel.invokeFunction('convertToInteractive',\n",
              "                                                    [key], {});\n",
              "        if (!dataTable) return;\n",
              "\n",
              "        const docLinkHtml = 'Like what you see? Visit the ' +\n",
              "          '<a target=\"_blank\" href=https://colab.research.google.com/notebooks/data_table.ipynb>data table notebook</a>'\n",
              "          + ' to learn more about interactive tables.';\n",
              "        element.innerHTML = '';\n",
              "        dataTable['output_type'] = 'display_data';\n",
              "        await google.colab.output.renderOutput(dataTable, element);\n",
              "        const docLink = document.createElement('div');\n",
              "        docLink.innerHTML = docLinkHtml;\n",
              "        element.appendChild(docLink);\n",
              "      }\n",
              "    </script>\n",
              "  </div>\n",
              "\n",
              "\n",
              "<div id=\"df-802c3357-8ab1-43de-83a7-ed2aea04ad76\">\n",
              "  <button class=\"colab-df-quickchart\" onclick=\"quickchart('df-802c3357-8ab1-43de-83a7-ed2aea04ad76')\"\n",
              "            title=\"Suggest charts.\"\n",
              "            style=\"display:none;\">\n",
              "\n",
              "<svg xmlns=\"http://www.w3.org/2000/svg\" height=\"24px\"viewBox=\"0 0 24 24\"\n",
              "     width=\"24px\">\n",
              "    <g>\n",
              "        <path d=\"M19 3H5c-1.1 0-2 .9-2 2v14c0 1.1.9 2 2 2h14c1.1 0 2-.9 2-2V5c0-1.1-.9-2-2-2zM9 17H7v-7h2v7zm4 0h-2V7h2v10zm4 0h-2v-4h2v4z\"/>\n",
              "    </g>\n",
              "</svg>\n",
              "  </button>\n",
              "\n",
              "<style>\n",
              "  .colab-df-quickchart {\n",
              "      --bg-color: #E8F0FE;\n",
              "      --fill-color: #1967D2;\n",
              "      --hover-bg-color: #E2EBFA;\n",
              "      --hover-fill-color: #174EA6;\n",
              "      --disabled-fill-color: #AAA;\n",
              "      --disabled-bg-color: #DDD;\n",
              "  }\n",
              "\n",
              "  [theme=dark] .colab-df-quickchart {\n",
              "      --bg-color: #3B4455;\n",
              "      --fill-color: #D2E3FC;\n",
              "      --hover-bg-color: #434B5C;\n",
              "      --hover-fill-color: #FFFFFF;\n",
              "      --disabled-bg-color: #3B4455;\n",
              "      --disabled-fill-color: #666;\n",
              "  }\n",
              "\n",
              "  .colab-df-quickchart {\n",
              "    background-color: var(--bg-color);\n",
              "    border: none;\n",
              "    border-radius: 50%;\n",
              "    cursor: pointer;\n",
              "    display: none;\n",
              "    fill: var(--fill-color);\n",
              "    height: 32px;\n",
              "    padding: 0;\n",
              "    width: 32px;\n",
              "  }\n",
              "\n",
              "  .colab-df-quickchart:hover {\n",
              "    background-color: var(--hover-bg-color);\n",
              "    box-shadow: 0 1px 2px rgba(60, 64, 67, 0.3), 0 1px 3px 1px rgba(60, 64, 67, 0.15);\n",
              "    fill: var(--button-hover-fill-color);\n",
              "  }\n",
              "\n",
              "  .colab-df-quickchart-complete:disabled,\n",
              "  .colab-df-quickchart-complete:disabled:hover {\n",
              "    background-color: var(--disabled-bg-color);\n",
              "    fill: var(--disabled-fill-color);\n",
              "    box-shadow: none;\n",
              "  }\n",
              "\n",
              "  .colab-df-spinner {\n",
              "    border: 2px solid var(--fill-color);\n",
              "    border-color: transparent;\n",
              "    border-bottom-color: var(--fill-color);\n",
              "    animation:\n",
              "      spin 1s steps(1) infinite;\n",
              "  }\n",
              "\n",
              "  @keyframes spin {\n",
              "    0% {\n",
              "      border-color: transparent;\n",
              "      border-bottom-color: var(--fill-color);\n",
              "      border-left-color: var(--fill-color);\n",
              "    }\n",
              "    20% {\n",
              "      border-color: transparent;\n",
              "      border-left-color: var(--fill-color);\n",
              "      border-top-color: var(--fill-color);\n",
              "    }\n",
              "    30% {\n",
              "      border-color: transparent;\n",
              "      border-left-color: var(--fill-color);\n",
              "      border-top-color: var(--fill-color);\n",
              "      border-right-color: var(--fill-color);\n",
              "    }\n",
              "    40% {\n",
              "      border-color: transparent;\n",
              "      border-right-color: var(--fill-color);\n",
              "      border-top-color: var(--fill-color);\n",
              "    }\n",
              "    60% {\n",
              "      border-color: transparent;\n",
              "      border-right-color: var(--fill-color);\n",
              "    }\n",
              "    80% {\n",
              "      border-color: transparent;\n",
              "      border-right-color: var(--fill-color);\n",
              "      border-bottom-color: var(--fill-color);\n",
              "    }\n",
              "    90% {\n",
              "      border-color: transparent;\n",
              "      border-bottom-color: var(--fill-color);\n",
              "    }\n",
              "  }\n",
              "</style>\n",
              "\n",
              "  <script>\n",
              "    async function quickchart(key) {\n",
              "      const quickchartButtonEl =\n",
              "        document.querySelector('#' + key + ' button');\n",
              "      quickchartButtonEl.disabled = true;  // To prevent multiple clicks.\n",
              "      quickchartButtonEl.classList.add('colab-df-spinner');\n",
              "      try {\n",
              "        const charts = await google.colab.kernel.invokeFunction(\n",
              "            'suggestCharts', [key], {});\n",
              "      } catch (error) {\n",
              "        console.error('Error during call to suggestCharts:', error);\n",
              "      }\n",
              "      quickchartButtonEl.classList.remove('colab-df-spinner');\n",
              "      quickchartButtonEl.classList.add('colab-df-quickchart-complete');\n",
              "    }\n",
              "    (() => {\n",
              "      let quickchartButtonEl =\n",
              "        document.querySelector('#df-802c3357-8ab1-43de-83a7-ed2aea04ad76 button');\n",
              "      quickchartButtonEl.style.display =\n",
              "        google.colab.kernel.accessAllowed ? 'block' : 'none';\n",
              "    })();\n",
              "  </script>\n",
              "</div>\n",
              "    </div>\n",
              "  </div>\n"
            ]
          },
          "metadata": {},
          "execution_count": 29
        }
      ]
    },
    {
      "cell_type": "code",
      "source": [
        "data[(data['price'].isnull())].shape"
      ],
      "metadata": {
        "id": "vwnSESukdNbe",
        "colab": {
          "base_uri": "https://localhost:8080/"
        },
        "outputId": "018b29c8-c15d-4ab2-add1-6fdf1edc0d6c"
      },
      "execution_count": null,
      "outputs": [
        {
          "output_type": "execute_result",
          "data": {
            "text/plain": [
              "(52, 15)"
            ]
          },
          "metadata": {},
          "execution_count": 30
        }
      ]
    },
    {
      "cell_type": "code",
      "source": [
        "# filter dataframe untuk menampilkan baris yang nilainya null di ketiga kolom sekaligus\n",
        "data[(data['number_of_reviews'].isnull()) & (data['last_review'].isnull()) & (data['reviews_per_month'].isnull())].shape"
      ],
      "metadata": {
        "id": "UFksb4LRTaoZ",
        "colab": {
          "base_uri": "https://localhost:8080/"
        },
        "outputId": "808e2ccd-0dfc-4d05-909d-49c8c73a3ce1"
      },
      "execution_count": null,
      "outputs": [
        {
          "output_type": "execute_result",
          "data": {
            "text/plain": [
              "(875, 15)"
            ]
          },
          "metadata": {},
          "execution_count": 31
        }
      ]
    },
    {
      "cell_type": "markdown",
      "source": [
        "Jumlah missing value saat kita filter berdasarkan kedua kolom yang memiliki missing value ternyata sama dengan jumlah baris yang memiliki missing value. Artinya saat value di numer_of_reviews = NaN, maka value di last_review dan reviews_per_mont juga akan NaN."
      ],
      "metadata": {
        "id": "GZdm1v_9WMfX"
      }
    },
    {
      "cell_type": "markdown",
      "source": [
        "jumlah missing value di dataset kita ada sekitar 17% dan data tersebut tidak berpengaruh ke column lain maka akan kita hapus untuk data yang missing value."
      ],
      "metadata": {
        "id": "4lp7yNCiJ1pF"
      }
    },
    {
      "cell_type": "code",
      "source": [
        "# Menghapus kolom yang memiliki missing value\n",
        "data = data.dropna(axis=0)\n",
        "\n",
        "# Reset indeks\n",
        "data = data.reset_index(drop=True)"
      ],
      "metadata": {
        "id": "5SCT2uCvmm1P"
      },
      "execution_count": null,
      "outputs": []
    },
    {
      "cell_type": "code",
      "source": [
        "# cek apakah kita sudah berhasil menghapus data yang missing\n",
        "data.isna().sum()"
      ],
      "metadata": {
        "colab": {
          "base_uri": "https://localhost:8080/"
        },
        "id": "28xAqfE2msZo",
        "outputId": "34807ce5-2136-4efb-cadc-5bf2bea43b0e"
      },
      "execution_count": null,
      "outputs": [
        {
          "output_type": "execute_result",
          "data": {
            "text/plain": [
              "id                     0\n",
              "name                   0\n",
              "host_id                0\n",
              "host_name              0\n",
              "neighbourhood_group    0\n",
              "neighbourhood          0\n",
              "latitude               0\n",
              "longitude              0\n",
              "room_type              0\n",
              "price                  0\n",
              "minimum_nights         0\n",
              "number_of_reviews      0\n",
              "last_review            0\n",
              "reviews_per_month      0\n",
              "availability_365       0\n",
              "dtype: int64"
            ]
          },
          "metadata": {},
          "execution_count": 33
        }
      ]
    },
    {
      "cell_type": "code",
      "source": [
        "data.info()"
      ],
      "metadata": {
        "id": "1r5HJTDQ1KgG",
        "outputId": "b871be9d-a516-4f9c-fcc6-add521db0727",
        "colab": {
          "base_uri": "https://localhost:8080/"
        }
      },
      "execution_count": null,
      "outputs": [
        {
          "output_type": "stream",
          "name": "stdout",
          "text": [
            "<class 'pandas.core.frame.DataFrame'>\n",
            "RangeIndex: 4099 entries, 0 to 4098\n",
            "Data columns (total 15 columns):\n",
            " #   Column               Non-Null Count  Dtype         \n",
            "---  ------               --------------  -----         \n",
            " 0   id                   4099 non-null   int64         \n",
            " 1   name                 4099 non-null   object        \n",
            " 2   host_id              4099 non-null   int64         \n",
            " 3   host_name            4099 non-null   object        \n",
            " 4   neighbourhood_group  4099 non-null   object        \n",
            " 5   neighbourhood        4099 non-null   object        \n",
            " 6   latitude             4099 non-null   float64       \n",
            " 7   longitude            4099 non-null   float64       \n",
            " 8   room_type            4099 non-null   object        \n",
            " 9   price                4099 non-null   float64       \n",
            " 10  minimum_nights       4099 non-null   int64         \n",
            " 11  number_of_reviews    4099 non-null   float64       \n",
            " 12  last_review          4099 non-null   datetime64[ns]\n",
            " 13  reviews_per_month    4099 non-null   float64       \n",
            " 14  availability_365     4099 non-null   int64         \n",
            "dtypes: datetime64[ns](1), float64(5), int64(4), object(5)\n",
            "memory usage: 480.5+ KB\n"
          ]
        }
      ]
    },
    {
      "cell_type": "code",
      "source": [
        "data.shape"
      ],
      "metadata": {
        "colab": {
          "base_uri": "https://localhost:8080/"
        },
        "id": "tf_MM3U17S4c",
        "outputId": "1b926fa9-84cc-4935-9735-2896e45b6cdd"
      },
      "execution_count": null,
      "outputs": [
        {
          "output_type": "execute_result",
          "data": {
            "text/plain": [
              "(4099, 15)"
            ]
          },
          "metadata": {},
          "execution_count": 35
        }
      ]
    },
    {
      "cell_type": "markdown",
      "source": [
        "## 2. Pengecekan Duplikat"
      ],
      "metadata": {
        "id": "smcH_vxXWsd_"
      }
    },
    {
      "cell_type": "code",
      "source": [
        "# mari kita lihat apakah terdapat duplikat di data kita\n",
        "print(f\"Terdapat {data.duplicated().sum()} baris duplikat di data kita\")"
      ],
      "metadata": {
        "id": "60XiOtgyUp35",
        "colab": {
          "base_uri": "https://localhost:8080/"
        },
        "outputId": "c7574284-4ec3-4f8f-8fe8-4a506a35233e"
      },
      "execution_count": null,
      "outputs": [
        {
          "output_type": "stream",
          "name": "stdout",
          "text": [
            "Terdapat 18 baris duplikat di data kita\n"
          ]
        }
      ]
    },
    {
      "cell_type": "code",
      "source": [
        "# hapus data duplikat\n",
        "data = data.drop_duplicates().reset_index(drop=True)"
      ],
      "metadata": {
        "id": "3SKpWCzkW2-G"
      },
      "execution_count": null,
      "outputs": []
    },
    {
      "cell_type": "code",
      "source": [
        "# cek apakah kita sudah berhasil menghapus data duplikat\n",
        "print(f\"Terdapat {data.duplicated().sum()} baris duplikat di data kita\")"
      ],
      "metadata": {
        "id": "x7HsxxloW72s",
        "colab": {
          "base_uri": "https://localhost:8080/"
        },
        "outputId": "b6d16dd8-db57-4392-eef4-1ac502127924"
      },
      "execution_count": null,
      "outputs": [
        {
          "output_type": "stream",
          "name": "stdout",
          "text": [
            "Terdapat 0 baris duplikat di data kita\n"
          ]
        }
      ]
    },
    {
      "cell_type": "code",
      "source": [
        "data.shape"
      ],
      "metadata": {
        "colab": {
          "base_uri": "https://localhost:8080/"
        },
        "id": "acxXdu7vw0k3",
        "outputId": "c463c382-e488-43e0-d29d-b5eb4d833728"
      },
      "execution_count": null,
      "outputs": [
        {
          "output_type": "execute_result",
          "data": {
            "text/plain": [
              "(4081, 15)"
            ]
          },
          "metadata": {},
          "execution_count": 39
        }
      ]
    },
    {
      "cell_type": "markdown",
      "source": [
        "## 3. Pengecekan Typos"
      ],
      "metadata": {
        "id": "Ka5Mae0qPzsI"
      }
    },
    {
      "cell_type": "markdown",
      "source": [
        "**Pengecekan kolom name**"
      ],
      "metadata": {
        "id": "JgYoTQBlSd6E"
      }
    },
    {
      "cell_type": "code",
      "source": [
        "# kita lihat distribusi data di kolom kategorik name\n",
        "data['name'].value_counts()"
      ],
      "metadata": {
        "colab": {
          "base_uri": "https://localhost:8080/"
        },
        "id": "kUl_KOXjAfz3",
        "outputId": "e4493a9b-f2ec-4566-c9a9-7aefba943db8"
      },
      "execution_count": null,
      "outputs": [
        {
          "output_type": "execute_result",
          "data": {
            "text/plain": [
              "Hillside Hotel                                        7\n",
              "Home away from home                                   5\n",
              "Cozy home away from home                              3\n",
              "New york Multi-unit building                          3\n",
              "Prolonged Traveler's Dream (a month first & more)     3\n",
              "                                                     ..\n",
              "Very quiet two twin beds room 温馨双单人床小屋                1\n",
              "NewPlace 4                                            1\n",
              "Beautiful newly renovated home-Long stays welcome!    1\n",
              "Private apartment (1st floor) with all amenities      1\n",
              "Room near JFK Queen Bed                               1\n",
              "Name: name, Length: 4038, dtype: int64"
            ]
          },
          "metadata": {},
          "execution_count": 40
        }
      ]
    },
    {
      "cell_type": "code",
      "source": [
        "# mari kita samakan value di kolom name menjadi lowercase\n",
        "data['name'] = data['name'].str.lower()"
      ],
      "metadata": {
        "id": "wneJ2eNtA1EY"
      },
      "execution_count": null,
      "outputs": []
    },
    {
      "cell_type": "code",
      "source": [
        "# lakukan pengecekan kembali ke kolom name\n",
        "data['name'].value_counts()"
      ],
      "metadata": {
        "colab": {
          "base_uri": "https://localhost:8080/"
        },
        "id": "YewVOMZzA8ra",
        "outputId": "447bafca-ec00-40a4-d45d-d6bec4915b78"
      },
      "execution_count": null,
      "outputs": [
        {
          "output_type": "execute_result",
          "data": {
            "text/plain": [
              "home away from home                                    7\n",
              "hillside hotel                                         7\n",
              "home sweet home                                        3\n",
              "prolonged traveler's dream (a month first & more)      3\n",
              "步行9分钟到法拉盛缅街中心的电梯房,提供免费矿泉水可乐                            3\n",
              "                                                      ..\n",
              "简单的四房一厅两卫生间,位于北上远离开辆,走路四分钟到地铁站,交通便利\\nsimple bigroom    1\n",
              "very quiet two twin beds room 温馨双单人床小屋                 1\n",
              "newplace 4                                             1\n",
              "beautiful newly renovated home-long stays welcome!     1\n",
              "room near jfk queen bed                                1\n",
              "Name: name, Length: 4020, dtype: int64"
            ]
          },
          "metadata": {},
          "execution_count": 42
        }
      ]
    },
    {
      "cell_type": "markdown",
      "source": [
        "**Pengecekan kolom host_name**"
      ],
      "metadata": {
        "id": "x1f08ivvTDZN"
      }
    },
    {
      "cell_type": "code",
      "source": [
        "# kita lihat distribusi data di kolom kategorik host_name\n",
        "data['host_name'].value_counts()"
      ],
      "metadata": {
        "colab": {
          "base_uri": "https://localhost:8080/"
        },
        "id": "Dorp2LRGBBG-",
        "outputId": "d0898068-cefe-4305-fa58-34f26ccf49e2"
      },
      "execution_count": null,
      "outputs": [
        {
          "output_type": "execute_result",
          "data": {
            "text/plain": [
              "David             35\n",
              "John              34\n",
              "Kazuya            23\n",
              "Maria             22\n",
              "Mark              19\n",
              "                  ..\n",
              "Howard             1\n",
              "Darlene            1\n",
              "George & Kevin     1\n",
              "Asaf               1\n",
              "Kenneth            1\n",
              "Name: host_name, Length: 1845, dtype: int64"
            ]
          },
          "metadata": {},
          "execution_count": 43
        }
      ]
    },
    {
      "cell_type": "markdown",
      "source": [
        "**Pengecekan Kolom neighbourhood_group**"
      ],
      "metadata": {
        "id": "O3_zNTB4Tipn"
      }
    },
    {
      "cell_type": "code",
      "source": [
        "# kita lihat distribusi data di kolom kategorik neighbourhood_group\n",
        "data['neighbourhood_group'].value_counts()"
      ],
      "metadata": {
        "id": "QN2j_5vFTqIy",
        "colab": {
          "base_uri": "https://localhost:8080/"
        },
        "outputId": "94176764-1192-439c-adc3-24abdf167f00"
      },
      "execution_count": null,
      "outputs": [
        {
          "output_type": "execute_result",
          "data": {
            "text/plain": [
              "Queens       2797\n",
              "Brooklyn      612\n",
              "Bronx         595\n",
              "Brooklynn      31\n",
              "QUeens         25\n",
              "Bronxx         21\n",
              "Name: neighbourhood_group, dtype: int64"
            ]
          },
          "metadata": {},
          "execution_count": 44
        }
      ]
    },
    {
      "cell_type": "code",
      "source": [
        "# kita dapat berasumsi bahwa terdapat typo saat data neighbourhood_group di input\n",
        "# dimana terdapat Brooklynn, QUeens, Bronxx\n",
        "# mari kita replace kategorik tersebut\n",
        "data['neighbourhood_group'] = data['neighbourhood_group'].replace({'Brooklynn': 'Brooklyn', 'QUeens': 'Queens', 'Bronxx': 'Bronx'})"
      ],
      "metadata": {
        "id": "xAItJdNCxDUo"
      },
      "execution_count": null,
      "outputs": []
    },
    {
      "cell_type": "code",
      "source": [
        "data['neighbourhood_group'].value_counts()"
      ],
      "metadata": {
        "colab": {
          "base_uri": "https://localhost:8080/"
        },
        "id": "aSl65eDoz6hu",
        "outputId": "340aac24-f206-4ed5-ad7d-29a94f8d7a3b"
      },
      "execution_count": null,
      "outputs": [
        {
          "output_type": "execute_result",
          "data": {
            "text/plain": [
              "Queens      2822\n",
              "Brooklyn     643\n",
              "Bronx        616\n",
              "Name: neighbourhood_group, dtype: int64"
            ]
          },
          "metadata": {},
          "execution_count": 46
        }
      ]
    },
    {
      "cell_type": "markdown",
      "source": [
        "**Pengecekan Kolom neighbourhood**"
      ],
      "metadata": {
        "id": "X8h16-3-T3Fo"
      }
    },
    {
      "cell_type": "code",
      "source": [
        "# kita lihat distribusi data di kolom kategorik neighbourhood\n",
        "data['neighbourhood'].value_counts()"
      ],
      "metadata": {
        "id": "SwHY6QuET8Xb",
        "colab": {
          "base_uri": "https://localhost:8080/"
        },
        "outputId": "f2e41ac7-1d5b-4089-e5ac-18c69b9ec2e3"
      },
      "execution_count": null,
      "outputs": [
        {
          "output_type": "execute_result",
          "data": {
            "text/plain": [
              "Flushing         362\n",
              "Bushwick         209\n",
              "Jamaica          190\n",
              "Elmhurst         190\n",
              "East New York    186\n",
              "                ... \n",
              "Olinville          2\n",
              "Castle Hill        2\n",
              "Riverdale          1\n",
              "Sunnyside          1\n",
              "Crown Heights      1\n",
              "Name: neighbourhood, Length: 98, dtype: int64"
            ]
          },
          "metadata": {},
          "execution_count": 47
        }
      ]
    },
    {
      "cell_type": "markdown",
      "source": [
        "**Pengecekan Kolom room_type**"
      ],
      "metadata": {
        "id": "OT8y5Xo6UMu4"
      }
    },
    {
      "cell_type": "code",
      "source": [
        "# kita lihat distribusi data di kolom kategorik room_type\n",
        "data['room_type'].value_counts()"
      ],
      "metadata": {
        "id": "N7gdYoywURzF",
        "colab": {
          "base_uri": "https://localhost:8080/"
        },
        "outputId": "1ea05623-d61a-4fbd-99cc-ea3c99b3e368"
      },
      "execution_count": null,
      "outputs": [
        {
          "output_type": "execute_result",
          "data": {
            "text/plain": [
              "Private room       2442\n",
              "Entire home/apt    1503\n",
              "Shared room         136\n",
              "Name: room_type, dtype: int64"
            ]
          },
          "metadata": {},
          "execution_count": 48
        }
      ]
    },
    {
      "cell_type": "markdown",
      "source": [
        "**Pengecekan Kolom last_review**"
      ],
      "metadata": {
        "id": "1HPaaP5EUXio"
      }
    },
    {
      "cell_type": "code",
      "source": [
        "# kita lihat distribusi data di kolom kategori last_reviews\n",
        "data['last_review'].value_counts()"
      ],
      "metadata": {
        "colab": {
          "base_uri": "https://localhost:8080/"
        },
        "id": "P7IefPk8BKmV",
        "outputId": "f69473f7-c1de-406c-8679-b7be9af63114"
      },
      "execution_count": null,
      "outputs": [
        {
          "output_type": "execute_result",
          "data": {
            "text/plain": [
              "2019-06-30    202\n",
              "2019-06-23    186\n",
              "2019-07-01    183\n",
              "2019-07-07    167\n",
              "2019-06-24    151\n",
              "             ... \n",
              "2014-10-22      1\n",
              "2018-04-12      1\n",
              "2017-08-31      1\n",
              "2017-05-08      1\n",
              "2018-11-24      1\n",
              "Name: last_review, Length: 608, dtype: int64"
            ]
          },
          "metadata": {},
          "execution_count": 49
        }
      ]
    },
    {
      "cell_type": "markdown",
      "source": [
        "**Pengecekan Kolom Price**"
      ],
      "metadata": {
        "id": "8XPm7GGCVYoE"
      }
    },
    {
      "cell_type": "code",
      "source": [
        "# kita lihat distribusi data di kolom kategorik price\n",
        "data['price'].value_counts()"
      ],
      "metadata": {
        "colab": {
          "base_uri": "https://localhost:8080/"
        },
        "id": "ArLXBIfbBSYB",
        "outputId": "90679508-6b98-4274-860e-2250bf381682"
      },
      "execution_count": null,
      "outputs": [
        {
          "output_type": "execute_result",
          "data": {
            "text/plain": [
              "50.0     245\n",
              "60.0     218\n",
              "40.0     174\n",
              "45.0     173\n",
              "65.0     170\n",
              "        ... \n",
              "235.0      1\n",
              "309.0      1\n",
              "509.0      1\n",
              "475.0      1\n",
              "184.0      1\n",
              "Name: price, Length: 229, dtype: int64"
            ]
          },
          "metadata": {},
          "execution_count": 50
        }
      ]
    },
    {
      "cell_type": "markdown",
      "source": [
        "**Pengecekan KOlom minimum_nights**"
      ],
      "metadata": {
        "id": "PwlaqcesVt9E"
      }
    },
    {
      "cell_type": "code",
      "source": [
        "# kita lihat distribusi data di kolom kategorik minimum_nights\n",
        "data['minimum_nights'].value_counts()"
      ],
      "metadata": {
        "id": "HVixYhDAV3Dq",
        "colab": {
          "base_uri": "https://localhost:8080/"
        },
        "outputId": "d2eedd5d-c71d-4adf-e1f4-854f6de579c9"
      },
      "execution_count": null,
      "outputs": [
        {
          "output_type": "execute_result",
          "data": {
            "text/plain": [
              " 1     1655\n",
              " 2     1188\n",
              " 3      535\n",
              " 4      166\n",
              " 30     145\n",
              " 5      132\n",
              " 7      107\n",
              " 6       32\n",
              " 14      26\n",
              " 28      13\n",
              " 10      12\n",
              " 29      12\n",
              " 15      10\n",
              " 20       7\n",
              " 9        7\n",
              " 60       5\n",
              " 90       5\n",
              " 21       5\n",
              " 31       2\n",
              " 25       2\n",
              " 16       2\n",
              " 18       2\n",
              "-1        1\n",
              " 11       1\n",
              " 40       1\n",
              " 27       1\n",
              " 37       1\n",
              " 8        1\n",
              " 22       1\n",
              " 26       1\n",
              " 13       1\n",
              " 35       1\n",
              " 45       1\n",
              "Name: minimum_nights, dtype: int64"
            ]
          },
          "metadata": {},
          "execution_count": 51
        }
      ]
    },
    {
      "cell_type": "code",
      "source": [
        "print(\"persentase distribusi data di kolom minimum_nights :\")\n",
        "data['minimum_nights'].value_counts(normalize=True) * 100"
      ],
      "metadata": {
        "id": "y0mOL3ZlWE9L",
        "colab": {
          "base_uri": "https://localhost:8080/"
        },
        "outputId": "4e2a8bf4-1c7c-43ab-ff2c-f7e21fb9ef0d"
      },
      "execution_count": null,
      "outputs": [
        {
          "output_type": "stream",
          "name": "stdout",
          "text": [
            "persentase distribusi data di kolom minimum_nights :\n"
          ]
        },
        {
          "output_type": "execute_result",
          "data": {
            "text/plain": [
              " 1     40.553786\n",
              " 2     29.110512\n",
              " 3     13.109532\n",
              " 4      4.067630\n",
              " 30     3.553051\n",
              " 5      3.234501\n",
              " 7      2.621906\n",
              " 6      0.784122\n",
              " 14     0.637099\n",
              " 28     0.318549\n",
              " 10     0.294046\n",
              " 29     0.294046\n",
              " 15     0.245038\n",
              " 20     0.171527\n",
              " 9      0.171527\n",
              " 60     0.122519\n",
              " 90     0.122519\n",
              " 21     0.122519\n",
              " 31     0.049008\n",
              " 25     0.049008\n",
              " 16     0.049008\n",
              " 18     0.049008\n",
              "-1      0.024504\n",
              " 11     0.024504\n",
              " 40     0.024504\n",
              " 27     0.024504\n",
              " 37     0.024504\n",
              " 8      0.024504\n",
              " 22     0.024504\n",
              " 26     0.024504\n",
              " 13     0.024504\n",
              " 35     0.024504\n",
              " 45     0.024504\n",
              "Name: minimum_nights, dtype: float64"
            ]
          },
          "metadata": {},
          "execution_count": 52
        }
      ]
    },
    {
      "cell_type": "code",
      "source": [
        "# kita dapat berasumsi bahwa terdapat typo saat data minimum_nights di input\n",
        "# dimana terdapat ekstra tanda negatif (misal 1 menjadi -1)\n",
        "# mari kita replace angka tersebut\n",
        "data['minimum_nights'] = data['minimum_nights'].replace(-1, 1)"
      ],
      "metadata": {
        "id": "EvpGUpdyTvt3"
      },
      "execution_count": null,
      "outputs": []
    },
    {
      "cell_type": "code",
      "source": [
        "# kita cek lagi data di kolom minimum_nights\n",
        "data['minimum_nights'].value_counts()"
      ],
      "metadata": {
        "id": "VX3fFpA2W_ba",
        "colab": {
          "base_uri": "https://localhost:8080/"
        },
        "outputId": "48069521-4dc9-4d1b-9296-5030ebcf16e9"
      },
      "execution_count": null,
      "outputs": [
        {
          "output_type": "execute_result",
          "data": {
            "text/plain": [
              "1     1656\n",
              "2     1188\n",
              "3      535\n",
              "4      166\n",
              "30     145\n",
              "5      132\n",
              "7      107\n",
              "6       32\n",
              "14      26\n",
              "28      13\n",
              "10      12\n",
              "29      12\n",
              "15      10\n",
              "20       7\n",
              "9        7\n",
              "60       5\n",
              "90       5\n",
              "21       5\n",
              "31       2\n",
              "25       2\n",
              "16       2\n",
              "18       2\n",
              "8        1\n",
              "11       1\n",
              "40       1\n",
              "27       1\n",
              "37       1\n",
              "22       1\n",
              "26       1\n",
              "13       1\n",
              "35       1\n",
              "45       1\n",
              "Name: minimum_nights, dtype: int64"
            ]
          },
          "metadata": {},
          "execution_count": 54
        }
      ]
    },
    {
      "cell_type": "markdown",
      "source": [
        "**Pengecekan Kolom Number_of_reviews**"
      ],
      "metadata": {
        "id": "uM-rzbN3XFrL"
      }
    },
    {
      "cell_type": "code",
      "source": [
        "# kita lihat distribusi data di kolom kategorik number_of_reviews\n",
        "data['number_of_reviews'].value_counts()"
      ],
      "metadata": {
        "colab": {
          "base_uri": "https://localhost:8080/"
        },
        "id": "0J4IA4qFAVo0",
        "outputId": "4aa2d338-4afb-490b-e01f-54393a42784f"
      },
      "execution_count": null,
      "outputs": [
        {
          "output_type": "execute_result",
          "data": {
            "text/plain": [
              "1.0      401\n",
              "2.0      297\n",
              "3.0      193\n",
              "4.0      158\n",
              "5.0      133\n",
              "        ... \n",
              "206.0      1\n",
              "205.0      1\n",
              "202.0      1\n",
              "201.0      1\n",
              "629.0      1\n",
              "Name: number_of_reviews, Length: 268, dtype: int64"
            ]
          },
          "metadata": {},
          "execution_count": 55
        }
      ]
    },
    {
      "cell_type": "markdown",
      "source": [
        "**Pengecekan Kolom reviews_per_month**"
      ],
      "metadata": {
        "id": "lmPFj1xtXX14"
      }
    },
    {
      "cell_type": "code",
      "source": [
        "# kita lihat distribusi data di kolom kategorik reviews_per_month\n",
        "data['reviews_per_month'].value_counts()"
      ],
      "metadata": {
        "colab": {
          "base_uri": "https://localhost:8080/"
        },
        "id": "h9CvpLV4BoRc",
        "outputId": "b56e91fd-ad2e-4232-b412-951e9d4cbf52"
      },
      "execution_count": null,
      "outputs": [
        {
          "output_type": "execute_result",
          "data": {
            "text/plain": [
              "1.00     114\n",
              "2.00      61\n",
              "0.16      47\n",
              "0.11      36\n",
              "3.00      34\n",
              "        ... \n",
              "9.50       1\n",
              "10.05      1\n",
              "10.60      1\n",
              "9.15       1\n",
              "14.58      1\n",
              "Name: reviews_per_month, Length: 737, dtype: int64"
            ]
          },
          "metadata": {},
          "execution_count": 56
        }
      ]
    },
    {
      "cell_type": "markdown",
      "source": [
        "**Pengecekan Kolom availability_365**"
      ],
      "metadata": {
        "id": "liPKPb9uXm-V"
      }
    },
    {
      "cell_type": "code",
      "source": [
        "# kita lihat distribusi data di kolom kategorik availability_365\n",
        "data['availability_365'].value_counts()"
      ],
      "metadata": {
        "id": "6NvtP0SjXsIw",
        "colab": {
          "base_uri": "https://localhost:8080/"
        },
        "outputId": "3f5fffb6-a454-4c17-b889-4b917f60cc53"
      },
      "execution_count": null,
      "outputs": [
        {
          "output_type": "execute_result",
          "data": {
            "text/plain": [
              "0      576\n",
              "365    159\n",
              "90      55\n",
              "89      54\n",
              "364     51\n",
              "      ... \n",
              "194      1\n",
              "182      1\n",
              "214      1\n",
              "184      1\n",
              "218      1\n",
              "Name: availability_365, Length: 361, dtype: int64"
            ]
          },
          "metadata": {},
          "execution_count": 57
        }
      ]
    },
    {
      "cell_type": "markdown",
      "source": [
        "## 4. Pengecekan Outlier"
      ],
      "metadata": {
        "id": "VpfQEX8uwwqX"
      }
    },
    {
      "cell_type": "code",
      "source": [
        "# membuat fungsi cek outlier.\n",
        "def cek_outlier(nama_kolom, batas):\n",
        "  Q1 = np.percentile(data[nama_kolom], 25,\n",
        "                     interpolation = 'midpoint')\n",
        "\n",
        "  Q3 = np.percentile(data[nama_kolom], 75,\n",
        "                     interpolation = 'midpoint')\n",
        "\n",
        "  IQR = Q3 - Q1\n",
        "\n",
        "  if batas == 'upper_bound':\n",
        "      bound = np.where(data[nama_kolom] >= (Q3 + 1.5*IQR))\n",
        "  elif batas == 'lower_bound':\n",
        "      bound = np.where(data[nama_kolom] <= (Q1 - 1.5*IQR))\n",
        "  return list(bound[0])"
      ],
      "metadata": {
        "id": "Twf7XHmOwBuL"
      },
      "execution_count": null,
      "outputs": []
    },
    {
      "cell_type": "code",
      "source": [
        "# lihat informasi dari data kita\n",
        "data.info()"
      ],
      "metadata": {
        "id": "Iyrm33WMKyEe",
        "colab": {
          "base_uri": "https://localhost:8080/"
        },
        "outputId": "8232d917-3e9f-4a51-d529-caa67d97f5a0"
      },
      "execution_count": null,
      "outputs": [
        {
          "output_type": "stream",
          "name": "stdout",
          "text": [
            "<class 'pandas.core.frame.DataFrame'>\n",
            "RangeIndex: 4081 entries, 0 to 4080\n",
            "Data columns (total 15 columns):\n",
            " #   Column               Non-Null Count  Dtype         \n",
            "---  ------               --------------  -----         \n",
            " 0   id                   4081 non-null   int64         \n",
            " 1   name                 4080 non-null   object        \n",
            " 2   host_id              4081 non-null   int64         \n",
            " 3   host_name            4081 non-null   object        \n",
            " 4   neighbourhood_group  4081 non-null   object        \n",
            " 5   neighbourhood        4081 non-null   object        \n",
            " 6   latitude             4081 non-null   float64       \n",
            " 7   longitude            4081 non-null   float64       \n",
            " 8   room_type            4081 non-null   object        \n",
            " 9   price                4081 non-null   float64       \n",
            " 10  minimum_nights       4081 non-null   int64         \n",
            " 11  number_of_reviews    4081 non-null   float64       \n",
            " 12  last_review          4081 non-null   datetime64[ns]\n",
            " 13  reviews_per_month    4081 non-null   float64       \n",
            " 14  availability_365     4081 non-null   int64         \n",
            "dtypes: datetime64[ns](1), float64(5), int64(4), object(5)\n",
            "memory usage: 478.4+ KB\n"
          ]
        }
      ]
    },
    {
      "cell_type": "code",
      "source": [
        "# jalankan fungsi untuk mendapatkan index data yang merupakan outlier\n",
        "# kolom price\n",
        "upper_price = cek_outlier('price', 'upper_bound')\n",
        "lower_price = cek_outlier('price', 'lower_bound')\n",
        "print(f\"Jumlah total outlier di kolom price : {len(upper_price) + len(lower_price)}\")"
      ],
      "metadata": {
        "id": "ldaDeYMcIm4Z",
        "colab": {
          "base_uri": "https://localhost:8080/"
        },
        "outputId": "71425086-2cc7-4a9a-c107-16fa117cca2f"
      },
      "execution_count": null,
      "outputs": [
        {
          "output_type": "stream",
          "name": "stdout",
          "text": [
            "Jumlah total outlier di kolom price : 300\n"
          ]
        }
      ]
    },
    {
      "cell_type": "code",
      "source": [
        "# Membuat boxplot price\n",
        "sns.boxplot(data['price'])"
      ],
      "metadata": {
        "colab": {
          "base_uri": "https://localhost:8080/",
          "height": 448
        },
        "id": "QqrNL8R0hFYm",
        "outputId": "23330a2e-2b15-46c6-c1b6-dc8e0c9fdb7c"
      },
      "execution_count": null,
      "outputs": [
        {
          "output_type": "execute_result",
          "data": {
            "text/plain": [
              "<Axes: >"
            ]
          },
          "metadata": {},
          "execution_count": 61
        },
        {
          "output_type": "display_data",
          "data": {
            "text/plain": [
              "<Figure size 640x480 with 1 Axes>"
            ],
            "image/png": "[encoded data removed]"
          },
          "metadata": {}
        }
      ]
    },
    {
      "cell_type": "code",
      "source": [
        "# jalankan fungsi untuk mendapatkan index data yang merupakan outlier\n",
        "# kolom minimum_nights\n",
        "upper_minimum_nights = cek_outlier('minimum_nights', 'upper_bound')\n",
        "lower_minimum_nights = cek_outlier('minimum_nights', 'lower_bound')\n",
        "print(f\"Jumlah total outlier di kolom minimum_nights : {len(upper_minimum_nights) + len(lower_minimum_nights)}\")"
      ],
      "metadata": {
        "colab": {
          "base_uri": "https://localhost:8080/"
        },
        "id": "y3uneZAACrjd",
        "outputId": "80f603f9-6a75-46b9-93ea-6583d82ec791"
      },
      "execution_count": null,
      "outputs": [
        {
          "output_type": "stream",
          "name": "stdout",
          "text": [
            "Jumlah total outlier di kolom minimum_nights : 404\n"
          ]
        }
      ]
    },
    {
      "cell_type": "code",
      "source": [
        "# Membuat boxplot minimum_nights\n",
        "sns.boxplot(data['minimum_nights'])\n"
      ],
      "metadata": {
        "colab": {
          "base_uri": "https://localhost:8080/",
          "height": 448
        },
        "id": "wT14pjh0dTan",
        "outputId": "7883c6e7-fa32-4bb7-b0ce-d39ba7226c82"
      },
      "execution_count": null,
      "outputs": [
        {
          "output_type": "execute_result",
          "data": {
            "text/plain": [
              "<Axes: >"
            ]
          },
          "metadata": {},
          "execution_count": 63
        },
        {
          "output_type": "display_data",
          "data": {
            "text/plain": [
              "<Figure size 640x480 with 1 Axes>"
            ],
            "image/png": "[encoded data removed]"
          },
          "metadata": {}
        }
      ]
    },
    {
      "cell_type": "code",
      "source": [
        "# jalankan fungsi untuk mendapatkan index data yang merupakan outlier\n",
        "# kolom number_of_reviews\n",
        "upper_number_of_reviews = cek_outlier('number_of_reviews', 'upper_bound')\n",
        "lower_number_of_reviews = cek_outlier('number_of_reviews', 'lower_bound')\n",
        "print(f\"Jumlah total outlier di kolom number_of_reviewss : {len(upper_number_of_reviews) + len(lower_number_of_reviews)}\")"
      ],
      "metadata": {
        "colab": {
          "base_uri": "https://localhost:8080/"
        },
        "id": "n8k-UfKpC4np",
        "outputId": "8f04f0c2-b4d7-463f-dc9a-671481a51c61"
      },
      "execution_count": null,
      "outputs": [
        {
          "output_type": "stream",
          "name": "stdout",
          "text": [
            "Jumlah total outlier di kolom number_of_reviewss : 302\n"
          ]
        }
      ]
    },
    {
      "cell_type": "code",
      "source": [
        "# Membuat boxplot number_of_reviews\n",
        "sns.boxplot(data['number_of_reviews'])"
      ],
      "metadata": {
        "colab": {
          "base_uri": "https://localhost:8080/",
          "height": 448
        },
        "id": "ToImzr_PfT7T",
        "outputId": "af8ef680-b6db-41b4-80a0-1e1217ae813a"
      },
      "execution_count": null,
      "outputs": [
        {
          "output_type": "execute_result",
          "data": {
            "text/plain": [
              "<Axes: >"
            ]
          },
          "metadata": {},
          "execution_count": 65
        },
        {
          "output_type": "display_data",
          "data": {
            "text/plain": [
              "<Figure size 640x480 with 1 Axes>"
            ],
            "image/png": "[encoded data removed]"
          },
          "metadata": {}
        }
      ]
    },
    {
      "cell_type": "code",
      "source": [
        "# jalankan fungsi untuk mendapatkan index data yang merupakan outlier\n",
        "# kolom last_review\n",
        "upper_last_review = cek_outlier('last_review', 'upper_bound')\n",
        "lower_last_review = cek_outlier('last_review', 'lower_bound')\n",
        "print(f\"Jumlah total outlier di kolom last_review : {len(upper_last_review) + len(lower_last_review)}\")"
      ],
      "metadata": {
        "colab": {
          "base_uri": "https://localhost:8080/"
        },
        "id": "VCMTtL8FDHjI",
        "outputId": "89f5c2b8-5982-4522-fb82-a25eea51e090"
      },
      "execution_count": null,
      "outputs": [
        {
          "output_type": "stream",
          "name": "stdout",
          "text": [
            "Jumlah total outlier di kolom last_review : 662\n"
          ]
        }
      ]
    },
    {
      "cell_type": "code",
      "source": [
        "# jalankan fungsi untuk mendapatkan index data yang merupakan outlier\n",
        "# kolom availability_365\n",
        "upper_availability_365 = cek_outlier('availability_365', 'upper_bound')\n",
        "lower_availability_365 = cek_outlier('availability_365', 'lower_bound')\n",
        "print(f\"Jumlah total outlier di kolom availability_365 : {len(upper_availability_365) + len(lower_availability_365)}\")"
      ],
      "metadata": {
        "colab": {
          "base_uri": "https://localhost:8080/"
        },
        "id": "u-olzGQCj-mC",
        "outputId": "f337b00f-e54b-4a00-e638-f69cd8f6b6f8"
      },
      "execution_count": null,
      "outputs": [
        {
          "output_type": "stream",
          "name": "stdout",
          "text": [
            "Jumlah total outlier di kolom availability_365 : 0\n"
          ]
        }
      ]
    },
    {
      "cell_type": "markdown",
      "source": [
        "karena nilai outlier cukup banyak maka kita akan melakukan imutasi data yang outlier dengan nilai median"
      ],
      "metadata": {
        "id": "SPlL-VfpNEa-"
      }
    },
    {
      "cell_type": "code",
      "source": [
        "# simpan nilai median kedua kolom secara terpisah\n",
        "median_price = data['price'].median()\n",
        "median_minimum_nights = data['minimum_nights'].median()\n",
        "median_number_of_reviews = data['number_of_reviews'].median()\n",
        "print(f\"Nilai median untuk kolom price : {median_price}\")\n",
        "print(f\"Nilai median untuk kolom minimum_nights : {median_minimum_nights}\")\n",
        "print(f\"Nilai median untuk kolom number_of_reviews : {median_number_of_reviews}\")"
      ],
      "metadata": {
        "colab": {
          "base_uri": "https://localhost:8080/"
        },
        "id": "cR5uU4A-HRW_",
        "outputId": "71d72008-3e85-43a0-b6a2-bdd96e9cd579"
      },
      "execution_count": null,
      "outputs": [
        {
          "output_type": "stream",
          "name": "stdout",
          "text": [
            "Nilai median untuk kolom price : 65.0\n",
            "Nilai median untuk kolom minimum_nights : 2.0\n",
            "Nilai median untuk kolom number_of_reviews : 15.0\n"
          ]
        }
      ]
    },
    {
      "cell_type": "code",
      "source": [
        "# Mengganti outlier dengan nilai median kolom price\n",
        "data.loc[data['price'] > 65.0, 'price'] = 65.0\n",
        "print(data['price'].describe())"
      ],
      "metadata": {
        "colab": {
          "base_uri": "https://localhost:8080/"
        },
        "id": "74Dd1XneJBgy",
        "outputId": "e2bb1fde-e8fb-4b3b-8ccf-4d01b79f3ef0"
      },
      "execution_count": null,
      "outputs": [
        {
          "output_type": "stream",
          "name": "stdout",
          "text": [
            "count    4081.000000\n",
            "mean       56.489096\n",
            "std        11.400956\n",
            "min        10.000000\n",
            "25%        49.000000\n",
            "50%        65.000000\n",
            "75%        65.000000\n",
            "max        65.000000\n",
            "Name: price, dtype: float64\n"
          ]
        }
      ]
    },
    {
      "cell_type": "code",
      "source": [
        "# Mengganti outlier dengan nilai median kolom minimum_nights\n",
        "data.loc[data['minimum_nights'] > 2.0, 'minimum_nights'] = 2.0\n",
        "print(data['minimum_nights'].describe())"
      ],
      "metadata": {
        "colab": {
          "base_uri": "https://localhost:8080/"
        },
        "id": "KTMdc_twLTJR",
        "outputId": "ff94565b-55af-4446-9c01-891d44171b88"
      },
      "execution_count": null,
      "outputs": [
        {
          "output_type": "stream",
          "name": "stdout",
          "text": [
            "count    4081.000000\n",
            "mean        1.594217\n",
            "std         0.491103\n",
            "min         1.000000\n",
            "25%         1.000000\n",
            "50%         2.000000\n",
            "75%         2.000000\n",
            "max         2.000000\n",
            "Name: minimum_nights, dtype: float64\n"
          ]
        }
      ]
    },
    {
      "cell_type": "code",
      "source": [
        "# Mengganti outlier dengan nilai median kolom number_of_reviews\n",
        "data.loc[data['number_of_reviews'] > 15.0, 'number_of_reviews'] = 15.0\n",
        "print(data['number_of_reviews'].describe())"
      ],
      "metadata": {
        "colab": {
          "base_uri": "https://localhost:8080/"
        },
        "id": "yJdgoWdGLnqm",
        "outputId": "4c886625-b908-4242-d48a-afb5ea27cfc7"
      },
      "execution_count": null,
      "outputs": [
        {
          "output_type": "stream",
          "name": "stdout",
          "text": [
            "count    4081.000000\n",
            "mean       10.267336\n",
            "std         5.589366\n",
            "min         1.000000\n",
            "25%         4.000000\n",
            "50%        15.000000\n",
            "75%        15.000000\n",
            "max        15.000000\n",
            "Name: number_of_reviews, dtype: float64\n"
          ]
        }
      ]
    },
    {
      "cell_type": "code",
      "source": [
        "# final data\n",
        "data.tail()"
      ],
      "metadata": {
        "colab": {
          "base_uri": "https://localhost:8080/",
          "height": 573
        },
        "id": "Kmm1hp64Fns5",
        "outputId": "6ba3fa94-6ce7-49b9-9317-dd4dde2c7c7d"
      },
      "execution_count": null,
      "outputs": [
        {
          "output_type": "execute_result",
          "data": {
            "text/plain": [
              "            id                                               name   host_id  \\\n",
              "4076    546383                   my little guest room in flushing   2680820   \n",
              "4077  16276632  cozy room family home lga airport no cleaning fee  26432133   \n",
              "4078   8168619                  steps away from laguardia airport  37312959   \n",
              "4079  10101135                            room near jfk twin beds  47621202   \n",
              "4080   9145202                            room near jfk queen bed  47621202   \n",
              "\n",
              "     host_name neighbourhood_group  neighbourhood  latitude  longitude  \\\n",
              "4076     Linda              Queens       Flushing  40.75578  -73.81948   \n",
              "4077  Danielle              Queens  East Elmhurst  40.76335  -73.87007   \n",
              "4078      Maya              Queens  East Elmhurst  40.77006  -73.87683   \n",
              "4079      Dona              Queens        Jamaica  40.66939  -73.76975   \n",
              "4080      Dona              Queens        Jamaica  40.66730  -73.76831   \n",
              "\n",
              "         room_type  price  minimum_nights  number_of_reviews last_review  \\\n",
              "4076  Private room   55.0               1               15.0  2019-05-25   \n",
              "4077  Private room   48.0               1               15.0  2019-07-06   \n",
              "4078  Private room   46.0               1               15.0  2019-07-01   \n",
              "4079  Private room   47.0               1               15.0  2019-06-27   \n",
              "4080  Private room   47.0               1               15.0  2019-07-05   \n",
              "\n",
              "      reviews_per_month  availability_365  \n",
              "4076               5.53               332  \n",
              "4077              16.22               341  \n",
              "4078              11.59               163  \n",
              "4079              13.40               173  \n",
              "4080              14.58               333  "
            ],
            "text/html": [
              "\n",
              "  <div id=\"df-ffddaade-e267-4eec-bf13-f8bc4e2b8cac\" class=\"colab-df-container\">\n",
              "    <div>\n",
              "<style scoped>\n",
              "    .dataframe tbody tr th:only-of-type {\n",
              "        vertical-align: middle;\n",
              "    }\n",
              "\n",
              "    .dataframe tbody tr th {\n",
              "        vertical-align: top;\n",
              "    }\n",
              "\n",
              "    .dataframe thead th {\n",
              "        text-align: right;\n",
              "    }\n",
              "</style>\n",
              "<table border=\"1\" class=\"dataframe\">\n",
              "  <thead>\n",
              "    <tr style=\"text-align: right;\">\n",
              "      <th></th>\n",
              "      <th>id</th>\n",
              "      <th>name</th>\n",
              "      <th>host_id</th>\n",
              "      <th>host_name</th>\n",
              "      <th>neighbourhood_group</th>\n",
              "      <th>neighbourhood</th>\n",
              "      <th>latitude</th>\n",
              "      <th>longitude</th>\n",
              "      <th>room_type</th>\n",
              "      <th>price</th>\n",
              "      <th>minimum_nights</th>\n",
              "      <th>number_of_reviews</th>\n",
              "      <th>last_review</th>\n",
              "      <th>reviews_per_month</th>\n",
              "      <th>availability_365</th>\n",
              "    </tr>\n",
              "  </thead>\n",
              "  <tbody>\n",
              "    <tr>\n",
              "      <th>4076</th>\n",
              "      <td>546383</td>\n",
              "      <td>my little guest room in flushing</td>\n",
              "      <td>2680820</td>\n",
              "      <td>Linda</td>\n",
              "      <td>Queens</td>\n",
              "      <td>Flushing</td>\n",
              "      <td>40.75578</td>\n",
              "      <td>-73.81948</td>\n",
              "      <td>Private room</td>\n",
              "      <td>55.0</td>\n",
              "      <td>1</td>\n",
              "      <td>15.0</td>\n",
              "      <td>2019-05-25</td>\n",
              "      <td>5.53</td>\n",
              "      <td>332</td>\n",
              "    </tr>\n",
              "    <tr>\n",
              "      <th>4077</th>\n",
              "      <td>16276632</td>\n",
              "      <td>cozy room family home lga airport no cleaning fee</td>\n",
              "      <td>26432133</td>\n",
              "      <td>Danielle</td>\n",
              "      <td>Queens</td>\n",
              "      <td>East Elmhurst</td>\n",
              "      <td>40.76335</td>\n",
              "      <td>-73.87007</td>\n",
              "      <td>Private room</td>\n",
              "      <td>48.0</td>\n",
              "      <td>1</td>\n",
              "      <td>15.0</td>\n",
              "      <td>2019-07-06</td>\n",
              "      <td>16.22</td>\n",
              "      <td>341</td>\n",
              "    </tr>\n",
              "    <tr>\n",
              "      <th>4078</th>\n",
              "      <td>8168619</td>\n",
              "      <td>steps away from laguardia airport</td>\n",
              "      <td>37312959</td>\n",
              "      <td>Maya</td>\n",
              "      <td>Queens</td>\n",
              "      <td>East Elmhurst</td>\n",
              "      <td>40.77006</td>\n",
              "      <td>-73.87683</td>\n",
              "      <td>Private room</td>\n",
              "      <td>46.0</td>\n",
              "      <td>1</td>\n",
              "      <td>15.0</td>\n",
              "      <td>2019-07-01</td>\n",
              "      <td>11.59</td>\n",
              "      <td>163</td>\n",
              "    </tr>\n",
              "    <tr>\n",
              "      <th>4079</th>\n",
              "      <td>10101135</td>\n",
              "      <td>room near jfk twin beds</td>\n",
              "      <td>47621202</td>\n",
              "      <td>Dona</td>\n",
              "      <td>Queens</td>\n",
              "      <td>Jamaica</td>\n",
              "      <td>40.66939</td>\n",
              "      <td>-73.76975</td>\n",
              "      <td>Private room</td>\n",
              "      <td>47.0</td>\n",
              "      <td>1</td>\n",
              "      <td>15.0</td>\n",
              "      <td>2019-06-27</td>\n",
              "      <td>13.40</td>\n",
              "      <td>173</td>\n",
              "    </tr>\n",
              "    <tr>\n",
              "      <th>4080</th>\n",
              "      <td>9145202</td>\n",
              "      <td>room near jfk queen bed</td>\n",
              "      <td>47621202</td>\n",
              "      <td>Dona</td>\n",
              "      <td>Queens</td>\n",
              "      <td>Jamaica</td>\n",
              "      <td>40.66730</td>\n",
              "      <td>-73.76831</td>\n",
              "      <td>Private room</td>\n",
              "      <td>47.0</td>\n",
              "      <td>1</td>\n",
              "      <td>15.0</td>\n",
              "      <td>2019-07-05</td>\n",
              "      <td>14.58</td>\n",
              "      <td>333</td>\n",
              "    </tr>\n",
              "  </tbody>\n",
              "</table>\n",
              "</div>\n",
              "    <div class=\"colab-df-buttons\">\n",
              "\n",
              "  <div class=\"colab-df-container\">\n",
              "    <button class=\"colab-df-convert\" onclick=\"convertToInteractive('df-ffddaade-e267-4eec-bf13-f8bc4e2b8cac')\"\n",
              "            title=\"Convert this dataframe to an interactive table.\"\n",
              "            style=\"display:none;\">\n",
              "\n",
              "  <svg xmlns=\"http://www.w3.org/2000/svg\" height=\"24px\" viewBox=\"0 -960 960 960\">\n",
              "    <path d=\"M120-120v-720h720v720H120Zm60-500h600v-160H180v160Zm220 220h160v-160H400v160Zm0 220h160v-160H400v160ZM180-400h160v-160H180v160Zm440 0h160v-160H620v160ZM180-180h160v-160H180v160Zm440 0h160v-160H620v160Z\"/>\n",
              "  </svg>\n",
              "    </button>\n",
              "\n",
              "  <style>\n",
              "    .colab-df-container {\n",
              "      display:flex;\n",
              "      gap: 12px;\n",
              "    }\n",
              "\n",
              "    .colab-df-convert {\n",
              "      background-color: #E8F0FE;\n",
              "      border: none;\n",
              "      border-radius: 50%;\n",
              "      cursor: pointer;\n",
              "      display: none;\n",
              "      fill: #1967D2;\n",
              "      height: 32px;\n",
              "      padding: 0 0 0 0;\n",
              "      width: 32px;\n",
              "    }\n",
              "\n",
              "    .colab-df-convert:hover {\n",
              "      background-color: #E2EBFA;\n",
              "      box-shadow: 0px 1px 2px rgba(60, 64, 67, 0.3), 0px 1px 3px 1px rgba(60, 64, 67, 0.15);\n",
              "      fill: #174EA6;\n",
              "    }\n",
              "\n",
              "    .colab-df-buttons div {\n",
              "      margin-bottom: 4px;\n",
              "    }\n",
              "\n",
              "    [theme=dark] .colab-df-convert {\n",
              "      background-color: #3B4455;\n",
              "      fill: #D2E3FC;\n",
              "    }\n",
              "\n",
              "    [theme=dark] .colab-df-convert:hover {\n",
              "      background-color: #434B5C;\n",
              "      box-shadow: 0px 1px 3px 1px rgba(0, 0, 0, 0.15);\n",
              "      filter: drop-shadow(0px 1px 2px rgba(0, 0, 0, 0.3));\n",
              "      fill: #FFFFFF;\n",
              "    }\n",
              "  </style>\n",
              "\n",
              "    <script>\n",
              "      const buttonEl =\n",
              "        document.querySelector('#df-ffddaade-e267-4eec-bf13-f8bc4e2b8cac button.colab-df-convert');\n",
              "      buttonEl.style.display =\n",
              "        google.colab.kernel.accessAllowed ? 'block' : 'none';\n",
              "\n",
              "      async function convertToInteractive(key) {\n",
              "        const element = document.querySelector('#df-ffddaade-e267-4eec-bf13-f8bc4e2b8cac');\n",
              "        const dataTable =\n",
              "          await google.colab.kernel.invokeFunction('convertToInteractive',\n",
              "                                                    [key], {});\n",
              "        if (!dataTable) return;\n",
              "\n",
              "        const docLinkHtml = 'Like what you see? Visit the ' +\n",
              "          '<a target=\"_blank\" href=https://colab.research.google.com/notebooks/data_table.ipynb>data table notebook</a>'\n",
              "          + ' to learn more about interactive tables.';\n",
              "        element.innerHTML = '';\n",
              "        dataTable['output_type'] = 'display_data';\n",
              "        await google.colab.output.renderOutput(dataTable, element);\n",
              "        const docLink = document.createElement('div');\n",
              "        docLink.innerHTML = docLinkHtml;\n",
              "        element.appendChild(docLink);\n",
              "      }\n",
              "    </script>\n",
              "  </div>\n",
              "\n",
              "\n",
              "<div id=\"df-148ca6fb-ddda-46ea-ae4b-50b6b6a3ca37\">\n",
              "  <button class=\"colab-df-quickchart\" onclick=\"quickchart('df-148ca6fb-ddda-46ea-ae4b-50b6b6a3ca37')\"\n",
              "            title=\"Suggest charts.\"\n",
              "            style=\"display:none;\">\n",
              "\n",
              "<svg xmlns=\"http://www.w3.org/2000/svg\" height=\"24px\"viewBox=\"0 0 24 24\"\n",
              "     width=\"24px\">\n",
              "    <g>\n",
              "        <path d=\"M19 3H5c-1.1 0-2 .9-2 2v14c0 1.1.9 2 2 2h14c1.1 0 2-.9 2-2V5c0-1.1-.9-2-2-2zM9 17H7v-7h2v7zm4 0h-2V7h2v10zm4 0h-2v-4h2v4z\"/>\n",
              "    </g>\n",
              "</svg>\n",
              "  </button>\n",
              "\n",
              "<style>\n",
              "  .colab-df-quickchart {\n",
              "      --bg-color: #E8F0FE;\n",
              "      --fill-color: #1967D2;\n",
              "      --hover-bg-color: #E2EBFA;\n",
              "      --hover-fill-color: #174EA6;\n",
              "      --disabled-fill-color: #AAA;\n",
              "      --disabled-bg-color: #DDD;\n",
              "  }\n",
              "\n",
              "  [theme=dark] .colab-df-quickchart {\n",
              "      --bg-color: #3B4455;\n",
              "      --fill-color: #D2E3FC;\n",
              "      --hover-bg-color: #434B5C;\n",
              "      --hover-fill-color: #FFFFFF;\n",
              "      --disabled-bg-color: #3B4455;\n",
              "      --disabled-fill-color: #666;\n",
              "  }\n",
              "\n",
              "  .colab-df-quickchart {\n",
              "    background-color: var(--bg-color);\n",
              "    border: none;\n",
              "    border-radius: 50%;\n",
              "    cursor: pointer;\n",
              "    display: none;\n",
              "    fill: var(--fill-color);\n",
              "    height: 32px;\n",
              "    padding: 0;\n",
              "    width: 32px;\n",
              "  }\n",
              "\n",
              "  .colab-df-quickchart:hover {\n",
              "    background-color: var(--hover-bg-color);\n",
              "    box-shadow: 0 1px 2px rgba(60, 64, 67, 0.3), 0 1px 3px 1px rgba(60, 64, 67, 0.15);\n",
              "    fill: var(--button-hover-fill-color);\n",
              "  }\n",
              "\n",
              "  .colab-df-quickchart-complete:disabled,\n",
              "  .colab-df-quickchart-complete:disabled:hover {\n",
              "    background-color: var(--disabled-bg-color);\n",
              "    fill: var(--disabled-fill-color);\n",
              "    box-shadow: none;\n",
              "  }\n",
              "\n",
              "  .colab-df-spinner {\n",
              "    border: 2px solid var(--fill-color);\n",
              "    border-color: transparent;\n",
              "    border-bottom-color: var(--fill-color);\n",
              "    animation:\n",
              "      spin 1s steps(1) infinite;\n",
              "  }\n",
              "\n",
              "  @keyframes spin {\n",
              "    0% {\n",
              "      border-color: transparent;\n",
              "      border-bottom-color: var(--fill-color);\n",
              "      border-left-color: var(--fill-color);\n",
              "    }\n",
              "    20% {\n",
              "      border-color: transparent;\n",
              "      border-left-color: var(--fill-color);\n",
              "      border-top-color: var(--fill-color);\n",
              "    }\n",
              "    30% {\n",
              "      border-color: transparent;\n",
              "      border-left-color: var(--fill-color);\n",
              "      border-top-color: var(--fill-color);\n",
              "      border-right-color: var(--fill-color);\n",
              "    }\n",
              "    40% {\n",
              "      border-color: transparent;\n",
              "      border-right-color: var(--fill-color);\n",
              "      border-top-color: var(--fill-color);\n",
              "    }\n",
              "    60% {\n",
              "      border-color: transparent;\n",
              "      border-right-color: var(--fill-color);\n",
              "    }\n",
              "    80% {\n",
              "      border-color: transparent;\n",
              "      border-right-color: var(--fill-color);\n",
              "      border-bottom-color: var(--fill-color);\n",
              "    }\n",
              "    90% {\n",
              "      border-color: transparent;\n",
              "      border-bottom-color: var(--fill-color);\n",
              "    }\n",
              "  }\n",
              "</style>\n",
              "\n",
              "  <script>\n",
              "    async function quickchart(key) {\n",
              "      const quickchartButtonEl =\n",
              "        document.querySelector('#' + key + ' button');\n",
              "      quickchartButtonEl.disabled = true;  // To prevent multiple clicks.\n",
              "      quickchartButtonEl.classList.add('colab-df-spinner');\n",
              "      try {\n",
              "        const charts = await google.colab.kernel.invokeFunction(\n",
              "            'suggestCharts', [key], {});\n",
              "      } catch (error) {\n",
              "        console.error('Error during call to suggestCharts:', error);\n",
              "      }\n",
              "      quickchartButtonEl.classList.remove('colab-df-spinner');\n",
              "      quickchartButtonEl.classList.add('colab-df-quickchart-complete');\n",
              "    }\n",
              "    (() => {\n",
              "      let quickchartButtonEl =\n",
              "        document.querySelector('#df-148ca6fb-ddda-46ea-ae4b-50b6b6a3ca37 button');\n",
              "      quickchartButtonEl.style.display =\n",
              "        google.colab.kernel.accessAllowed ? 'block' : 'none';\n",
              "    })();\n",
              "  </script>\n",
              "</div>\n",
              "    </div>\n",
              "  </div>\n"
            ]
          },
          "metadata": {},
          "execution_count": 73
        }
      ]
    },
    {
      "cell_type": "code",
      "source": [
        "data.info()"
      ],
      "metadata": {
        "colab": {
          "base_uri": "https://localhost:8080/"
        },
        "id": "-18nvhijh_1E",
        "outputId": "ab8d0ae1-bd4d-45eb-b020-a9db7cc06dd9"
      },
      "execution_count": null,
      "outputs": [
        {
          "output_type": "stream",
          "name": "stdout",
          "text": [
            "<class 'pandas.core.frame.DataFrame'>\n",
            "RangeIndex: 4081 entries, 0 to 4080\n",
            "Data columns (total 15 columns):\n",
            " #   Column               Non-Null Count  Dtype         \n",
            "---  ------               --------------  -----         \n",
            " 0   id                   4081 non-null   int64         \n",
            " 1   name                 4080 non-null   object        \n",
            " 2   host_id              4081 non-null   int64         \n",
            " 3   host_name            4081 non-null   object        \n",
            " 4   neighbourhood_group  4081 non-null   object        \n",
            " 5   neighbourhood        4081 non-null   object        \n",
            " 6   latitude             4081 non-null   float64       \n",
            " 7   longitude            4081 non-null   float64       \n",
            " 8   room_type            4081 non-null   object        \n",
            " 9   price                4081 non-null   float64       \n",
            " 10  minimum_nights       4081 non-null   int64         \n",
            " 11  number_of_reviews    4081 non-null   float64       \n",
            " 12  last_review          4081 non-null   datetime64[ns]\n",
            " 13  reviews_per_month    4081 non-null   float64       \n",
            " 14  availability_365     4081 non-null   int64         \n",
            "dtypes: datetime64[ns](1), float64(5), int64(4), object(5)\n",
            "memory usage: 478.4+ KB\n"
          ]
        }
      ]
    },
    {
      "cell_type": "markdown",
      "source": [
        "## NO.1"
      ],
      "metadata": {
        "id": "CGmwGUwnFwWT"
      }
    },
    {
      "cell_type": "markdown",
      "source": [
        "Harga rata-rata, termurah dan termahal yang disediakan per jenis tipe kamar beserta karakteristiknya\n",
        "Expected column output :\n",
        "- tipe ruangan\n",
        "- harga rata-rata\n",
        "- harga max\n",
        "- harga min\n",
        "- rata-rata minimum pemesanan (malam)\n",
        "- rata- rata total review"
      ],
      "metadata": {
        "id": "zZwQI7vwF13N"
      }
    },
    {
      "cell_type": "code",
      "source": [
        "# Menghitung harga rata-rata per jenis tipe kamar\n",
        "harga_rata_rata = data.groupby('room_type')['price'].mean()\n",
        "print(f\"Nilai harga_rata_rata : {harga_rata_rata}\")"
      ],
      "metadata": {
        "id": "7LlY6aPiFqW9",
        "colab": {
          "base_uri": "https://localhost:8080/"
        },
        "outputId": "e3968c40-bbff-4a53-e2de-921f5d6d77f6"
      },
      "execution_count": null,
      "outputs": [
        {
          "output_type": "stream",
          "name": "stdout",
          "text": [
            "Nilai harga_rata_rata : room_type\n",
            "Entire home/apt    63.892216\n",
            "Private room       52.881245\n",
            "Shared room        39.455882\n",
            "Name: price, dtype: float64\n"
          ]
        }
      ]
    },
    {
      "cell_type": "code",
      "source": [
        "# Menghitung harga maksimum perjenis tipe kamar\n",
        "harga_max = data.groupby('room_type')['price'].max()\n",
        "print(f\"Nilai harga_max : {harga_max}\")"
      ],
      "metadata": {
        "colab": {
          "base_uri": "https://localhost:8080/"
        },
        "id": "Vq_to4WMo0rm",
        "outputId": "fed79102-e739-4d0f-e476-a3b89ba8fd92"
      },
      "execution_count": null,
      "outputs": [
        {
          "output_type": "stream",
          "name": "stdout",
          "text": [
            "Nilai harga_max : room_type\n",
            "Entire home/apt    65.0\n",
            "Private room       65.0\n",
            "Shared room        65.0\n",
            "Name: price, dtype: float64\n"
          ]
        }
      ]
    },
    {
      "cell_type": "code",
      "source": [
        "# Menghitung harga minimum perjenis tipe kamar\n",
        "harga_min = data.groupby('room_type')['price'].min()\n",
        "print(f\"Nilai harga_min : {harga_min}\")"
      ],
      "metadata": {
        "colab": {
          "base_uri": "https://localhost:8080/"
        },
        "id": "CRuqT9l0rYO0",
        "outputId": "647f300e-2e87-4258-ff70-f39fdf4274b1"
      },
      "execution_count": null,
      "outputs": [
        {
          "output_type": "stream",
          "name": "stdout",
          "text": [
            "Nilai harga_min : room_type\n",
            "Entire home/apt    10.0\n",
            "Private room       21.0\n",
            "Shared room        15.0\n",
            "Name: price, dtype: float64\n"
          ]
        }
      ]
    },
    {
      "cell_type": "code",
      "source": [
        "# Menghitung rata-rata minimum_nights berdasarkan tipe kamar\n",
        "rata_rata_minimum_nights = data.groupby('room_type')['minimum_nights'].mean()\n",
        "print(f\"Nilai rata-rata_minimum_nights : {rata_rata_minimum_nights}\")"
      ],
      "metadata": {
        "colab": {
          "base_uri": "https://localhost:8080/"
        },
        "id": "Myk0Hgf2rhTn",
        "outputId": "716887f1-51b5-4d2b-b82e-e60a0ec5a859"
      },
      "execution_count": null,
      "outputs": [
        {
          "output_type": "stream",
          "name": "stdout",
          "text": [
            "Nilai rata-rata_minimum_nights : room_type\n",
            "Entire home/apt    1.723220\n",
            "Private room       1.524980\n",
            "Shared room        1.411765\n",
            "Name: minimum_nights, dtype: float64\n"
          ]
        }
      ]
    },
    {
      "cell_type": "code",
      "source": [
        "# Menghitung rata-rata total review berdasarkan tipe kamar\n",
        "rata_rata_total_review = data.groupby('room_type')['number_of_reviews'].mean()\n",
        "print(f\"Nilai rata-rata_total_review : {rata_rata_total_review}\")"
      ],
      "metadata": {
        "colab": {
          "base_uri": "https://localhost:8080/"
        },
        "id": "1v3KJaLYsIj-",
        "outputId": "56774201-18e3-4309-e2cf-2f81d70daf36"
      },
      "execution_count": null,
      "outputs": [
        {
          "output_type": "stream",
          "name": "stdout",
          "text": [
            "Nilai rata-rata_total_review : room_type\n",
            "Entire home/apt    11.005988\n",
            "Private room        9.968878\n",
            "Shared room         7.463235\n",
            "Name: number_of_reviews, dtype: float64\n"
          ]
        }
      ]
    },
    {
      "cell_type": "code",
      "source": [
        "# Membuat dataframe Output\n",
        "Output = pd.DataFrame({'room_type': harga_rata_rata.index,\n",
        "                       'harga_rata_rata': harga_rata_rata.values,\n",
        "                       'harga max': harga_max.values,\n",
        "                       'harga min': harga_min.values,\n",
        "                       'rata-rata minimum_nights': rata_rata_minimum_nights.values,\n",
        "                       'total review': rata_rata_total_review.values})\n"
      ],
      "metadata": {
        "id": "l-F3UxxitBU1"
      },
      "execution_count": null,
      "outputs": []
    },
    {
      "cell_type": "code",
      "source": [
        "# Menampilkan dataframe output\n",
        "print(Output)"
      ],
      "metadata": {
        "colab": {
          "base_uri": "https://localhost:8080/"
        },
        "id": "I05BITT4uHxZ",
        "outputId": "dfae1152-04c9-47ad-b7b3-02db550626da"
      },
      "execution_count": null,
      "outputs": [
        {
          "output_type": "stream",
          "name": "stdout",
          "text": [
            "         room_type  harga_rata_rata  harga max  harga min  \\\n",
            "0  Entire home/apt        63.892216       65.0       10.0   \n",
            "1     Private room        52.881245       65.0       21.0   \n",
            "2      Shared room        39.455882       65.0       15.0   \n",
            "\n",
            "   rata-rata minimum_nights  total review  \n",
            "0                  1.723220     11.005988  \n",
            "1                  1.524980      9.968878  \n",
            "2                  1.411765      7.463235  \n"
          ]
        }
      ]
    },
    {
      "cell_type": "markdown",
      "source": [
        "# NO.2"
      ],
      "metadata": {
        "id": "9NO32WjevDj7"
      }
    },
    {
      "cell_type": "markdown",
      "source": [
        "Total properti dan rata-rata harga per neighbourhood group\n",
        "Expected column output :\n",
        "- neighbourhood_group\n",
        "- total_properti\n",
        "- avg_price_properti"
      ],
      "metadata": {
        "id": "aWtMUJY_vG2G"
      }
    },
    {
      "cell_type": "code",
      "source": [
        "# Menghitung total properti per neightbourhood_group\n",
        "total_properti = data.groupby('neighbourhood_group')['room_type'].count()\n",
        "print(f\"Nilai total_properti : {total_properti}\")\n"
      ],
      "metadata": {
        "colab": {
          "base_uri": "https://localhost:8080/"
        },
        "id": "KUc5L0YDu3jM",
        "outputId": "ba41f950-c5f5-441d-a0fc-4bc87c94bb17"
      },
      "execution_count": null,
      "outputs": [
        {
          "output_type": "stream",
          "name": "stdout",
          "text": [
            "Nilai total_properti : neighbourhood_group\n",
            "Bronx        616\n",
            "Brooklyn     643\n",
            "Queens      2822\n",
            "Name: room_type, dtype: int64\n"
          ]
        }
      ]
    },
    {
      "cell_type": "code",
      "source": [
        "# Menghitung avg_price_properti per neightbourhood_group\n",
        "avg_price_properti = data.groupby('neighbourhood_group')['price'].mean()\n",
        "print(f\"Nilai avg_price_properti : {avg_price_properti}\")"
      ],
      "metadata": {
        "colab": {
          "base_uri": "https://localhost:8080/"
        },
        "id": "pRKsDe0pwWg1",
        "outputId": "220ce254-0dad-406e-ad04-a09967720ae2"
      },
      "execution_count": null,
      "outputs": [
        {
          "output_type": "stream",
          "name": "stdout",
          "text": [
            "Nilai avg_price_properti : neighbourhood_group\n",
            "Bronx       54.891234\n",
            "Brooklyn    56.503888\n",
            "Queens      56.834515\n",
            "Name: price, dtype: float64\n"
          ]
        }
      ]
    },
    {
      "cell_type": "code",
      "source": [
        "# Membuat dataframe Output\n",
        "Output = pd.DataFrame({'neightbourhood_group':total_properti.index,\n",
        "                       'total properti': total_properti.values,\n",
        "                       'avg_price_properti': avg_price_properti.values\n",
        "                       })\n",
        "print(Output)"
      ],
      "metadata": {
        "colab": {
          "base_uri": "https://localhost:8080/"
        },
        "id": "VZk8eI1115gw",
        "outputId": "ba67a200-32e2-4ada-eb7b-4560d6de890c"
      },
      "execution_count": null,
      "outputs": [
        {
          "output_type": "stream",
          "name": "stdout",
          "text": [
            "  neightbourhood_group  total properti  avg_price_properti\n",
            "0                Bronx             616           54.891234\n",
            "1             Brooklyn             643           56.503888\n",
            "2               Queens            2822           56.834515\n"
          ]
        }
      ]
    },
    {
      "cell_type": "markdown",
      "source": [
        "# NO.3"
      ],
      "metadata": {
        "id": "HYyQJGxw2tIy"
      }
    },
    {
      "cell_type": "markdown",
      "source": [
        "Dari tahun 2017-2019, berapa rata-rata reviews per month dan rata-rata availability kamar nya untuk setiap jenis tipe kamar per tahunnya\n",
        "Expected column output :\n",
        "- year\n",
        "- room_type\n",
        "- avg_review_per_month\n",
        "- avg_availability"
      ],
      "metadata": {
        "id": "Kw2hcWb92vkR"
      }
    },
    {
      "cell_type": "code",
      "source": [
        "# Mengekstrak tahun dari kolom last_review dan menyimpan di kolom baru Year\n",
        "data['year'] = data['last_review'].dt.year"
      ],
      "metadata": {
        "id": "zpzE9OQ_2q9r"
      },
      "execution_count": null,
      "outputs": []
    },
    {
      "cell_type": "code",
      "source": [
        "# yang kita inginkna hanya tahun 2017-2019\n",
        "filtered_data = data[(data['year'] >= 2017) & (data['year'] <= 2019)]"
      ],
      "metadata": {
        "id": "Dv6jOK4m5at3"
      },
      "execution_count": null,
      "outputs": []
    },
    {
      "cell_type": "code",
      "source": [
        "# cek kembali data yang kita miliki\n",
        "data.head(5)"
      ],
      "metadata": {
        "colab": {
          "base_uri": "https://localhost:8080/",
          "height": 486
        },
        "id": "o8sT3fvH3sgN",
        "outputId": "022ad16a-3468-4bff-c218-2fd64d829eb0"
      },
      "execution_count": null,
      "outputs": [
        {
          "output_type": "execute_result",
          "data": {
            "text/plain": [
              "         id                                               name    host_id  \\\n",
              "0  30942778  share a lg studio room* 2 blocks subway* bronx...    1532337   \n",
              "1  35069663                        apartamento compartido nyc.  264182618   \n",
              "2  30527526                                       pelham south  228773060   \n",
              "3  19593009    simple cost-friendly private room, females only  125653581   \n",
              "4  25287115     comfortable private clean room fully furnished  175368807   \n",
              "\n",
              "   host_name neighbourhood_group   neighbourhood  latitude  longitude  \\\n",
              "0     Monica               Bronx        Van Nest  40.84047  -73.87127   \n",
              "1    Jesus A               Bronx         Fordham  40.85743  -73.90233   \n",
              "2  Reggae In               Bronx       Bronxdale  40.85398  -73.86451   \n",
              "3     Amanda               Bronx         Norwood  40.87740  -73.87537   \n",
              "4    Lamesha               Bronx  Williamsbridge  40.87579  -73.86532   \n",
              "\n",
              "      room_type  price  minimum_nights  number_of_reviews last_review  \\\n",
              "0   Shared room   20.0               2                1.0  2019-05-08   \n",
              "1   Shared room   22.0               1                1.0  2019-06-03   \n",
              "2  Private room   25.0               2                1.0  2018-12-14   \n",
              "3  Private room   29.0               2                1.0  2017-07-16   \n",
              "4  Private room   33.0               2                1.0  2018-07-28   \n",
              "\n",
              "   reviews_per_month  availability_365  year  \n",
              "0               0.48               139  2019  \n",
              "1               0.83                11  2019  \n",
              "2               0.14                 0  2018  \n",
              "3               0.04                 0  2017  \n",
              "4               0.09               365  2018  "
            ],
            "text/html": [
              "\n",
              "  <div id=\"df-ff3bcea5-cf98-4e4c-96ed-1c743fb52714\" class=\"colab-df-container\">\n",
              "    <div>\n",
              "<style scoped>\n",
              "    .dataframe tbody tr th:only-of-type {\n",
              "        vertical-align: middle;\n",
              "    }\n",
              "\n",
              "    .dataframe tbody tr th {\n",
              "        vertical-align: top;\n",
              "    }\n",
              "\n",
              "    .dataframe thead th {\n",
              "        text-align: right;\n",
              "    }\n",
              "</style>\n",
              "<table border=\"1\" class=\"dataframe\">\n",
              "  <thead>\n",
              "    <tr style=\"text-align: right;\">\n",
              "      <th></th>\n",
              "      <th>id</th>\n",
              "      <th>name</th>\n",
              "      <th>host_id</th>\n",
              "      <th>host_name</th>\n",
              "      <th>neighbourhood_group</th>\n",
              "      <th>neighbourhood</th>\n",
              "      <th>latitude</th>\n",
              "      <th>longitude</th>\n",
              "      <th>room_type</th>\n",
              "      <th>price</th>\n",
              "      <th>minimum_nights</th>\n",
              "      <th>number_of_reviews</th>\n",
              "      <th>last_review</th>\n",
              "      <th>reviews_per_month</th>\n",
              "      <th>availability_365</th>\n",
              "      <th>year</th>\n",
              "    </tr>\n",
              "  </thead>\n",
              "  <tbody>\n",
              "    <tr>\n",
              "      <th>0</th>\n",
              "      <td>30942778</td>\n",
              "      <td>share a lg studio room* 2 blocks subway* bronx...</td>\n",
              "      <td>1532337</td>\n",
              "      <td>Monica</td>\n",
              "      <td>Bronx</td>\n",
              "      <td>Van Nest</td>\n",
              "      <td>40.84047</td>\n",
              "      <td>-73.87127</td>\n",
              "      <td>Shared room</td>\n",
              "      <td>20.0</td>\n",
              "      <td>2</td>\n",
              "      <td>1.0</td>\n",
              "      <td>2019-05-08</td>\n",
              "      <td>0.48</td>\n",
              "      <td>139</td>\n",
              "      <td>2019</td>\n",
              "    </tr>\n",
              "    <tr>\n",
              "      <th>1</th>\n",
              "      <td>35069663</td>\n",
              "      <td>apartamento compartido nyc.</td>\n",
              "      <td>264182618</td>\n",
              "      <td>Jesus A</td>\n",
              "      <td>Bronx</td>\n",
              "      <td>Fordham</td>\n",
              "      <td>40.85743</td>\n",
              "      <td>-73.90233</td>\n",
              "      <td>Shared room</td>\n",
              "      <td>22.0</td>\n",
              "      <td>1</td>\n",
              "      <td>1.0</td>\n",
              "      <td>2019-06-03</td>\n",
              "      <td>0.83</td>\n",
              "      <td>11</td>\n",
              "      <td>2019</td>\n",
              "    </tr>\n",
              "    <tr>\n",
              "      <th>2</th>\n",
              "      <td>30527526</td>\n",
              "      <td>pelham south</td>\n",
              "      <td>228773060</td>\n",
              "      <td>Reggae In</td>\n",
              "      <td>Bronx</td>\n",
              "      <td>Bronxdale</td>\n",
              "      <td>40.85398</td>\n",
              "      <td>-73.86451</td>\n",
              "      <td>Private room</td>\n",
              "      <td>25.0</td>\n",
              "      <td>2</td>\n",
              "      <td>1.0</td>\n",
              "      <td>2018-12-14</td>\n",
              "      <td>0.14</td>\n",
              "      <td>0</td>\n",
              "      <td>2018</td>\n",
              "    </tr>\n",
              "    <tr>\n",
              "      <th>3</th>\n",
              "      <td>19593009</td>\n",
              "      <td>simple cost-friendly private room, females only</td>\n",
              "      <td>125653581</td>\n",
              "      <td>Amanda</td>\n",
              "      <td>Bronx</td>\n",
              "      <td>Norwood</td>\n",
              "      <td>40.87740</td>\n",
              "      <td>-73.87537</td>\n",
              "      <td>Private room</td>\n",
              "      <td>29.0</td>\n",
              "      <td>2</td>\n",
              "      <td>1.0</td>\n",
              "      <td>2017-07-16</td>\n",
              "      <td>0.04</td>\n",
              "      <td>0</td>\n",
              "      <td>2017</td>\n",
              "    </tr>\n",
              "    <tr>\n",
              "      <th>4</th>\n",
              "      <td>25287115</td>\n",
              "      <td>comfortable private clean room fully furnished</td>\n",
              "      <td>175368807</td>\n",
              "      <td>Lamesha</td>\n",
              "      <td>Bronx</td>\n",
              "      <td>Williamsbridge</td>\n",
              "      <td>40.87579</td>\n",
              "      <td>-73.86532</td>\n",
              "      <td>Private room</td>\n",
              "      <td>33.0</td>\n",
              "      <td>2</td>\n",
              "      <td>1.0</td>\n",
              "      <td>2018-07-28</td>\n",
              "      <td>0.09</td>\n",
              "      <td>365</td>\n",
              "      <td>2018</td>\n",
              "    </tr>\n",
              "  </tbody>\n",
              "</table>\n",
              "</div>\n",
              "    <div class=\"colab-df-buttons\">\n",
              "\n",
              "  <div class=\"colab-df-container\">\n",
              "    <button class=\"colab-df-convert\" onclick=\"convertToInteractive('df-ff3bcea5-cf98-4e4c-96ed-1c743fb52714')\"\n",
              "            title=\"Convert this dataframe to an interactive table.\"\n",
              "            style=\"display:none;\">\n",
              "\n",
              "  <svg xmlns=\"http://www.w3.org/2000/svg\" height=\"24px\" viewBox=\"0 -960 960 960\">\n",
              "    <path d=\"M120-120v-720h720v720H120Zm60-500h600v-160H180v160Zm220 220h160v-160H400v160Zm0 220h160v-160H400v160ZM180-400h160v-160H180v160Zm440 0h160v-160H620v160ZM180-180h160v-160H180v160Zm440 0h160v-160H620v160Z\"/>\n",
              "  </svg>\n",
              "    </button>\n",
              "\n",
              "  <style>\n",
              "    .colab-df-container {\n",
              "      display:flex;\n",
              "      gap: 12px;\n",
              "    }\n",
              "\n",
              "    .colab-df-convert {\n",
              "      background-color: #E8F0FE;\n",
              "      border: none;\n",
              "      border-radius: 50%;\n",
              "      cursor: pointer;\n",
              "      display: none;\n",
              "      fill: #1967D2;\n",
              "      height: 32px;\n",
              "      padding: 0 0 0 0;\n",
              "      width: 32px;\n",
              "    }\n",
              "\n",
              "    .colab-df-convert:hover {\n",
              "      background-color: #E2EBFA;\n",
              "      box-shadow: 0px 1px 2px rgba(60, 64, 67, 0.3), 0px 1px 3px 1px rgba(60, 64, 67, 0.15);\n",
              "      fill: #174EA6;\n",
              "    }\n",
              "\n",
              "    .colab-df-buttons div {\n",
              "      margin-bottom: 4px;\n",
              "    }\n",
              "\n",
              "    [theme=dark] .colab-df-convert {\n",
              "      background-color: #3B4455;\n",
              "      fill: #D2E3FC;\n",
              "    }\n",
              "\n",
              "    [theme=dark] .colab-df-convert:hover {\n",
              "      background-color: #434B5C;\n",
              "      box-shadow: 0px 1px 3px 1px rgba(0, 0, 0, 0.15);\n",
              "      filter: drop-shadow(0px 1px 2px rgba(0, 0, 0, 0.3));\n",
              "      fill: #FFFFFF;\n",
              "    }\n",
              "  </style>\n",
              "\n",
              "    <script>\n",
              "      const buttonEl =\n",
              "        document.querySelector('#df-ff3bcea5-cf98-4e4c-96ed-1c743fb52714 button.colab-df-convert');\n",
              "      buttonEl.style.display =\n",
              "        google.colab.kernel.accessAllowed ? 'block' : 'none';\n",
              "\n",
              "      async function convertToInteractive(key) {\n",
              "        const element = document.querySelector('#df-ff3bcea5-cf98-4e4c-96ed-1c743fb52714');\n",
              "        const dataTable =\n",
              "          await google.colab.kernel.invokeFunction('convertToInteractive',\n",
              "                                                    [key], {});\n",
              "        if (!dataTable) return;\n",
              "\n",
              "        const docLinkHtml = 'Like what you see? Visit the ' +\n",
              "          '<a target=\"_blank\" href=https://colab.research.google.com/notebooks/data_table.ipynb>data table notebook</a>'\n",
              "          + ' to learn more about interactive tables.';\n",
              "        element.innerHTML = '';\n",
              "        dataTable['output_type'] = 'display_data';\n",
              "        await google.colab.output.renderOutput(dataTable, element);\n",
              "        const docLink = document.createElement('div');\n",
              "        docLink.innerHTML = docLinkHtml;\n",
              "        element.appendChild(docLink);\n",
              "      }\n",
              "    </script>\n",
              "  </div>\n",
              "\n",
              "\n",
              "<div id=\"df-30ef24bc-ab1d-4b18-84d6-580108d624c4\">\n",
              "  <button class=\"colab-df-quickchart\" onclick=\"quickchart('df-30ef24bc-ab1d-4b18-84d6-580108d624c4')\"\n",
              "            title=\"Suggest charts.\"\n",
              "            style=\"display:none;\">\n",
              "\n",
              "<svg xmlns=\"http://www.w3.org/2000/svg\" height=\"24px\"viewBox=\"0 0 24 24\"\n",
              "     width=\"24px\">\n",
              "    <g>\n",
              "        <path d=\"M19 3H5c-1.1 0-2 .9-2 2v14c0 1.1.9 2 2 2h14c1.1 0 2-.9 2-2V5c0-1.1-.9-2-2-2zM9 17H7v-7h2v7zm4 0h-2V7h2v10zm4 0h-2v-4h2v4z\"/>\n",
              "    </g>\n",
              "</svg>\n",
              "  </button>\n",
              "\n",
              "<style>\n",
              "  .colab-df-quickchart {\n",
              "      --bg-color: #E8F0FE;\n",
              "      --fill-color: #1967D2;\n",
              "      --hover-bg-color: #E2EBFA;\n",
              "      --hover-fill-color: #174EA6;\n",
              "      --disabled-fill-color: #AAA;\n",
              "      --disabled-bg-color: #DDD;\n",
              "  }\n",
              "\n",
              "  [theme=dark] .colab-df-quickchart {\n",
              "      --bg-color: #3B4455;\n",
              "      --fill-color: #D2E3FC;\n",
              "      --hover-bg-color: #434B5C;\n",
              "      --hover-fill-color: #FFFFFF;\n",
              "      --disabled-bg-color: #3B4455;\n",
              "      --disabled-fill-color: #666;\n",
              "  }\n",
              "\n",
              "  .colab-df-quickchart {\n",
              "    background-color: var(--bg-color);\n",
              "    border: none;\n",
              "    border-radius: 50%;\n",
              "    cursor: pointer;\n",
              "    display: none;\n",
              "    fill: var(--fill-color);\n",
              "    height: 32px;\n",
              "    padding: 0;\n",
              "    width: 32px;\n",
              "  }\n",
              "\n",
              "  .colab-df-quickchart:hover {\n",
              "    background-color: var(--hover-bg-color);\n",
              "    box-shadow: 0 1px 2px rgba(60, 64, 67, 0.3), 0 1px 3px 1px rgba(60, 64, 67, 0.15);\n",
              "    fill: var(--button-hover-fill-color);\n",
              "  }\n",
              "\n",
              "  .colab-df-quickchart-complete:disabled,\n",
              "  .colab-df-quickchart-complete:disabled:hover {\n",
              "    background-color: var(--disabled-bg-color);\n",
              "    fill: var(--disabled-fill-color);\n",
              "    box-shadow: none;\n",
              "  }\n",
              "\n",
              "  .colab-df-spinner {\n",
              "    border: 2px solid var(--fill-color);\n",
              "    border-color: transparent;\n",
              "    border-bottom-color: var(--fill-color);\n",
              "    animation:\n",
              "      spin 1s steps(1) infinite;\n",
              "  }\n",
              "\n",
              "  @keyframes spin {\n",
              "    0% {\n",
              "      border-color: transparent;\n",
              "      border-bottom-color: var(--fill-color);\n",
              "      border-left-color: var(--fill-color);\n",
              "    }\n",
              "    20% {\n",
              "      border-color: transparent;\n",
              "      border-left-color: var(--fill-color);\n",
              "      border-top-color: var(--fill-color);\n",
              "    }\n",
              "    30% {\n",
              "      border-color: transparent;\n",
              "      border-left-color: var(--fill-color);\n",
              "      border-top-color: var(--fill-color);\n",
              "      border-right-color: var(--fill-color);\n",
              "    }\n",
              "    40% {\n",
              "      border-color: transparent;\n",
              "      border-right-color: var(--fill-color);\n",
              "      border-top-color: var(--fill-color);\n",
              "    }\n",
              "    60% {\n",
              "      border-color: transparent;\n",
              "      border-right-color: var(--fill-color);\n",
              "    }\n",
              "    80% {\n",
              "      border-color: transparent;\n",
              "      border-right-color: var(--fill-color);\n",
              "      border-bottom-color: var(--fill-color);\n",
              "    }\n",
              "    90% {\n",
              "      border-color: transparent;\n",
              "      border-bottom-color: var(--fill-color);\n",
              "    }\n",
              "  }\n",
              "</style>\n",
              "\n",
              "  <script>\n",
              "    async function quickchart(key) {\n",
              "      const quickchartButtonEl =\n",
              "        document.querySelector('#' + key + ' button');\n",
              "      quickchartButtonEl.disabled = true;  // To prevent multiple clicks.\n",
              "      quickchartButtonEl.classList.add('colab-df-spinner');\n",
              "      try {\n",
              "        const charts = await google.colab.kernel.invokeFunction(\n",
              "            'suggestCharts', [key], {});\n",
              "      } catch (error) {\n",
              "        console.error('Error during call to suggestCharts:', error);\n",
              "      }\n",
              "      quickchartButtonEl.classList.remove('colab-df-spinner');\n",
              "      quickchartButtonEl.classList.add('colab-df-quickchart-complete');\n",
              "    }\n",
              "    (() => {\n",
              "      let quickchartButtonEl =\n",
              "        document.querySelector('#df-30ef24bc-ab1d-4b18-84d6-580108d624c4 button');\n",
              "      quickchartButtonEl.style.display =\n",
              "        google.colab.kernel.accessAllowed ? 'block' : 'none';\n",
              "    })();\n",
              "  </script>\n",
              "</div>\n",
              "    </div>\n",
              "  </div>\n"
            ]
          },
          "metadata": {},
          "execution_count": 87
        }
      ]
    },
    {
      "cell_type": "code",
      "source": [
        "data.info()"
      ],
      "metadata": {
        "colab": {
          "base_uri": "https://localhost:8080/"
        },
        "id": "rQH8pZsM6h8y",
        "outputId": "ca670f0c-0112-446b-b750-a956f2f01f8b"
      },
      "execution_count": null,
      "outputs": [
        {
          "output_type": "stream",
          "name": "stdout",
          "text": [
            "<class 'pandas.core.frame.DataFrame'>\n",
            "RangeIndex: 4081 entries, 0 to 4080\n",
            "Data columns (total 16 columns):\n",
            " #   Column               Non-Null Count  Dtype         \n",
            "---  ------               --------------  -----         \n",
            " 0   id                   4081 non-null   int64         \n",
            " 1   name                 4080 non-null   object        \n",
            " 2   host_id              4081 non-null   int64         \n",
            " 3   host_name            4081 non-null   object        \n",
            " 4   neighbourhood_group  4081 non-null   object        \n",
            " 5   neighbourhood        4081 non-null   object        \n",
            " 6   latitude             4081 non-null   float64       \n",
            " 7   longitude            4081 non-null   float64       \n",
            " 8   room_type            4081 non-null   object        \n",
            " 9   price                4081 non-null   float64       \n",
            " 10  minimum_nights       4081 non-null   int64         \n",
            " 11  number_of_reviews    4081 non-null   float64       \n",
            " 12  last_review          4081 non-null   datetime64[ns]\n",
            " 13  reviews_per_month    4081 non-null   float64       \n",
            " 14  availability_365     4081 non-null   int64         \n",
            " 15  year                 4081 non-null   int64         \n",
            "dtypes: datetime64[ns](1), float64(5), int64(5), object(5)\n",
            "memory usage: 510.2+ KB\n"
          ]
        }
      ]
    },
    {
      "cell_type": "code",
      "source": [
        "# Menghitung avg_reviews_per_month bedasarkan year dan tipe room\n",
        "avg_review_per_month = filtered_data.groupby(['year', 'room_type'])['reviews_per_month'].mean()\n",
        "print(avg_review_per_month)"
      ],
      "metadata": {
        "colab": {
          "base_uri": "https://localhost:8080/"
        },
        "id": "k4jShmKM6M4G",
        "outputId": "abf446d6-314a-4dc3-a659-7f38b5135275"
      },
      "execution_count": null,
      "outputs": [
        {
          "output_type": "stream",
          "name": "stdout",
          "text": [
            "year  room_type      \n",
            "2017  Entire home/apt    0.306190\n",
            "      Private room       0.322881\n",
            "      Shared room        0.088571\n",
            "2018  Entire home/apt    0.458837\n",
            "      Private room       0.589040\n",
            "      Shared room        0.276364\n",
            "2019  Entire home/apt    2.761556\n",
            "      Private room       2.445252\n",
            "      Shared room        1.819231\n",
            "Name: reviews_per_month, dtype: float64\n"
          ]
        }
      ]
    },
    {
      "cell_type": "code",
      "source": [
        "# Menghitung avg_availability bedasarkan year dan tipe room\n",
        "avg_availability = filtered_data.groupby(['year', 'room_type'])['availability_365'].mean()\n",
        "print(avg_availability)"
      ],
      "metadata": {
        "colab": {
          "base_uri": "https://localhost:8080/"
        },
        "id": "DmdhgIH_7Fnn",
        "outputId": "3532bb48-1499-4c8f-8627-c7d70f698d05"
      },
      "execution_count": null,
      "outputs": [
        {
          "output_type": "stream",
          "name": "stdout",
          "text": [
            "year  room_type      \n",
            "2017  Entire home/apt     63.571429\n",
            "      Private room        75.627119\n",
            "      Shared room        158.000000\n",
            "2018  Entire home/apt     91.310078\n",
            "      Private room       131.609907\n",
            "      Shared room        200.363636\n",
            "2019  Entire home/apt    183.253870\n",
            "      Private room       182.426340\n",
            "      Shared room        218.980769\n",
            "Name: availability_365, dtype: float64\n"
          ]
        }
      ]
    },
    {
      "cell_type": "code",
      "source": [
        "# Membuat dataframe dengan hasil yang telah dihitung\n",
        "Output = pd.DataFrame({\n",
        "    'year': avg_review_per_month.index.get_level_values('year'),\n",
        "    'room_type': avg_review_per_month.index.get_level_values('room_type'),\n",
        "    'avg_review_per_month': avg_review_per_month.values,\n",
        "    'avg_availability': avg_availability.values\n",
        "})\n",
        "\n",
        "# Menampilkan dataframe output\n",
        "print(Output)"
      ],
      "metadata": {
        "colab": {
          "base_uri": "https://localhost:8080/"
        },
        "id": "XBevwgZdHYjj",
        "outputId": "45b18d8f-e5e0-4a10-fef5-555e8b5bda83"
      },
      "execution_count": null,
      "outputs": [
        {
          "output_type": "stream",
          "name": "stdout",
          "text": [
            "   year        room_type  avg_review_per_month  avg_availability\n",
            "0  2017  Entire home/apt              0.306190         63.571429\n",
            "1  2017     Private room              0.322881         75.627119\n",
            "2  2017      Shared room              0.088571        158.000000\n",
            "3  2018  Entire home/apt              0.458837         91.310078\n",
            "4  2018     Private room              0.589040        131.609907\n",
            "5  2018      Shared room              0.276364        200.363636\n",
            "6  2019  Entire home/apt              2.761556        183.253870\n",
            "7  2019     Private room              2.445252        182.426340\n",
            "8  2019      Shared room              1.819231        218.980769\n"
          ]
        }
      ]
    },
    {
      "cell_type": "code",
      "source": [
        "data.head(10)"
      ],
      "metadata": {
        "colab": {
          "base_uri": "https://localhost:8080/",
          "height": 730
        },
        "id": "wQmHYnbV9OJJ",
        "outputId": "4cddf561-988f-4525-8ec2-0326b6eeb287"
      },
      "execution_count": null,
      "outputs": [
        {
          "output_type": "execute_result",
          "data": {
            "text/plain": [
              "         id                                               name    host_id  \\\n",
              "0  30942778  share a lg studio room* 2 blocks subway* bronx...    1532337   \n",
              "1  35069663                        apartamento compartido nyc.  264182618   \n",
              "2  30527526                                       pelham south  228773060   \n",
              "3  19593009    simple cost-friendly private room, females only  125653581   \n",
              "4  25287115     comfortable private clean room fully furnished  175368807   \n",
              "5  35614155                            \"the quick get away #2\"  241454071   \n",
              "6  35464959                1 bedroom, shared apartment/living.  266823933   \n",
              "7  34941499                                     private room 1  263266237   \n",
              "8  35877681       get away private bedroom in new york city #6   35783912   \n",
              "9  35877559  cozy private room near fordham university bron...   35783912   \n",
              "\n",
              "   host_name neighbourhood_group   neighbourhood  latitude  longitude  \\\n",
              "0     Monica               Bronx        Van Nest  40.84047  -73.87127   \n",
              "1    Jesus A               Bronx         Fordham  40.85743  -73.90233   \n",
              "2  Reggae In               Bronx       Bronxdale  40.85398  -73.86451   \n",
              "3     Amanda               Bronx         Norwood  40.87740  -73.87537   \n",
              "4    Lamesha               Bronx  Williamsbridge  40.87579  -73.86532   \n",
              "5    Leyland               Bronx     Hunts Point  40.81879  -73.88646   \n",
              "6    Natalie               Bronx        Van Nest  40.84550  -73.86217   \n",
              "7    Amoyiem               Bronx        Allerton  40.86958  -73.84872   \n",
              "8   Pi & Leo               Bronx         Fordham  40.86427  -73.89215   \n",
              "9   Pi & Leo               Bronx         Fordham  40.86249  -73.89234   \n",
              "\n",
              "      room_type  price  minimum_nights  number_of_reviews last_review  \\\n",
              "0   Shared room   20.0               2                1.0  2019-05-08   \n",
              "1   Shared room   22.0               1                1.0  2019-06-03   \n",
              "2  Private room   25.0               2                1.0  2018-12-14   \n",
              "3  Private room   29.0               2                1.0  2017-07-16   \n",
              "4  Private room   33.0               2                1.0  2018-07-28   \n",
              "5  Private room   35.0               2                1.0  2019-06-26   \n",
              "6  Private room   35.0               2                1.0  2019-06-17   \n",
              "7  Private room   38.0               2                1.0  2019-06-23   \n",
              "8  Private room   39.0               2                1.0  2019-07-01   \n",
              "9  Private room   39.0               2                1.0  2019-07-07   \n",
              "\n",
              "   reviews_per_month  availability_365  year  \n",
              "0               0.48               139  2019  \n",
              "1               0.83                11  2019  \n",
              "2               0.14                 0  2018  \n",
              "3               0.04                 0  2017  \n",
              "4               0.09               365  2018  \n",
              "5               1.00                59  2019  \n",
              "6               1.00               342  2019  \n",
              "7               1.00                90  2019  \n",
              "8               1.00               175  2019  \n",
              "9               1.00               180  2019  "
            ],
            "text/html": [
              "\n",
              "  <div id=\"df-2ff001d8-62b9-4189-a427-04a6956abd49\" class=\"colab-df-container\">\n",
              "    <div>\n",
              "<style scoped>\n",
              "    .dataframe tbody tr th:only-of-type {\n",
              "        vertical-align: middle;\n",
              "    }\n",
              "\n",
              "    .dataframe tbody tr th {\n",
              "        vertical-align: top;\n",
              "    }\n",
              "\n",
              "    .dataframe thead th {\n",
              "        text-align: right;\n",
              "    }\n",
              "</style>\n",
              "<table border=\"1\" class=\"dataframe\">\n",
              "  <thead>\n",
              "    <tr style=\"text-align: right;\">\n",
              "      <th></th>\n",
              "      <th>id</th>\n",
              "      <th>name</th>\n",
              "      <th>host_id</th>\n",
              "      <th>host_name</th>\n",
              "      <th>neighbourhood_group</th>\n",
              "      <th>neighbourhood</th>\n",
              "      <th>latitude</th>\n",
              "      <th>longitude</th>\n",
              "      <th>room_type</th>\n",
              "      <th>price</th>\n",
              "      <th>minimum_nights</th>\n",
              "      <th>number_of_reviews</th>\n",
              "      <th>last_review</th>\n",
              "      <th>reviews_per_month</th>\n",
              "      <th>availability_365</th>\n",
              "      <th>year</th>\n",
              "    </tr>\n",
              "  </thead>\n",
              "  <tbody>\n",
              "    <tr>\n",
              "      <th>0</th>\n",
              "      <td>30942778</td>\n",
              "      <td>share a lg studio room* 2 blocks subway* bronx...</td>\n",
              "      <td>1532337</td>\n",
              "      <td>Monica</td>\n",
              "      <td>Bronx</td>\n",
              "      <td>Van Nest</td>\n",
              "      <td>40.84047</td>\n",
              "      <td>-73.87127</td>\n",
              "      <td>Shared room</td>\n",
              "      <td>20.0</td>\n",
              "      <td>2</td>\n",
              "      <td>1.0</td>\n",
              "      <td>2019-05-08</td>\n",
              "      <td>0.48</td>\n",
              "      <td>139</td>\n",
              "      <td>2019</td>\n",
              "    </tr>\n",
              "    <tr>\n",
              "      <th>1</th>\n",
              "      <td>35069663</td>\n",
              "      <td>apartamento compartido nyc.</td>\n",
              "      <td>264182618</td>\n",
              "      <td>Jesus A</td>\n",
              "      <td>Bronx</td>\n",
              "      <td>Fordham</td>\n",
              "      <td>40.85743</td>\n",
              "      <td>-73.90233</td>\n",
              "      <td>Shared room</td>\n",
              "      <td>22.0</td>\n",
              "      <td>1</td>\n",
              "      <td>1.0</td>\n",
              "      <td>2019-06-03</td>\n",
              "      <td>0.83</td>\n",
              "      <td>11</td>\n",
              "      <td>2019</td>\n",
              "    </tr>\n",
              "    <tr>\n",
              "      <th>2</th>\n",
              "      <td>30527526</td>\n",
              "      <td>pelham south</td>\n",
              "      <td>228773060</td>\n",
              "      <td>Reggae In</td>\n",
              "      <td>Bronx</td>\n",
              "      <td>Bronxdale</td>\n",
              "      <td>40.85398</td>\n",
              "      <td>-73.86451</td>\n",
              "      <td>Private room</td>\n",
              "      <td>25.0</td>\n",
              "      <td>2</td>\n",
              "      <td>1.0</td>\n",
              "      <td>2018-12-14</td>\n",
              "      <td>0.14</td>\n",
              "      <td>0</td>\n",
              "      <td>2018</td>\n",
              "    </tr>\n",
              "    <tr>\n",
              "      <th>3</th>\n",
              "      <td>19593009</td>\n",
              "      <td>simple cost-friendly private room, females only</td>\n",
              "      <td>125653581</td>\n",
              "      <td>Amanda</td>\n",
              "      <td>Bronx</td>\n",
              "      <td>Norwood</td>\n",
              "      <td>40.87740</td>\n",
              "      <td>-73.87537</td>\n",
              "      <td>Private room</td>\n",
              "      <td>29.0</td>\n",
              "      <td>2</td>\n",
              "      <td>1.0</td>\n",
              "      <td>2017-07-16</td>\n",
              "      <td>0.04</td>\n",
              "      <td>0</td>\n",
              "      <td>2017</td>\n",
              "    </tr>\n",
              "    <tr>\n",
              "      <th>4</th>\n",
              "      <td>25287115</td>\n",
              "      <td>comfortable private clean room fully furnished</td>\n",
              "      <td>175368807</td>\n",
              "      <td>Lamesha</td>\n",
              "      <td>Bronx</td>\n",
              "      <td>Williamsbridge</td>\n",
              "      <td>40.87579</td>\n",
              "      <td>-73.86532</td>\n",
              "      <td>Private room</td>\n",
              "      <td>33.0</td>\n",
              "      <td>2</td>\n",
              "      <td>1.0</td>\n",
              "      <td>2018-07-28</td>\n",
              "      <td>0.09</td>\n",
              "      <td>365</td>\n",
              "      <td>2018</td>\n",
              "    </tr>\n",
              "    <tr>\n",
              "      <th>5</th>\n",
              "      <td>35614155</td>\n",
              "      <td>\"the quick get away #2\"</td>\n",
              "      <td>241454071</td>\n",
              "      <td>Leyland</td>\n",
              "      <td>Bronx</td>\n",
              "      <td>Hunts Point</td>\n",
              "      <td>40.81879</td>\n",
              "      <td>-73.88646</td>\n",
              "      <td>Private room</td>\n",
              "      <td>35.0</td>\n",
              "      <td>2</td>\n",
              "      <td>1.0</td>\n",
              "      <td>2019-06-26</td>\n",
              "      <td>1.00</td>\n",
              "      <td>59</td>\n",
              "      <td>2019</td>\n",
              "    </tr>\n",
              "    <tr>\n",
              "      <th>6</th>\n",
              "      <td>35464959</td>\n",
              "      <td>1 bedroom, shared apartment/living.</td>\n",
              "      <td>266823933</td>\n",
              "      <td>Natalie</td>\n",
              "      <td>Bronx</td>\n",
              "      <td>Van Nest</td>\n",
              "      <td>40.84550</td>\n",
              "      <td>-73.86217</td>\n",
              "      <td>Private room</td>\n",
              "      <td>35.0</td>\n",
              "      <td>2</td>\n",
              "      <td>1.0</td>\n",
              "      <td>2019-06-17</td>\n",
              "      <td>1.00</td>\n",
              "      <td>342</td>\n",
              "      <td>2019</td>\n",
              "    </tr>\n",
              "    <tr>\n",
              "      <th>7</th>\n",
              "      <td>34941499</td>\n",
              "      <td>private room 1</td>\n",
              "      <td>263266237</td>\n",
              "      <td>Amoyiem</td>\n",
              "      <td>Bronx</td>\n",
              "      <td>Allerton</td>\n",
              "      <td>40.86958</td>\n",
              "      <td>-73.84872</td>\n",
              "      <td>Private room</td>\n",
              "      <td>38.0</td>\n",
              "      <td>2</td>\n",
              "      <td>1.0</td>\n",
              "      <td>2019-06-23</td>\n",
              "      <td>1.00</td>\n",
              "      <td>90</td>\n",
              "      <td>2019</td>\n",
              "    </tr>\n",
              "    <tr>\n",
              "      <th>8</th>\n",
              "      <td>35877681</td>\n",
              "      <td>get away private bedroom in new york city #6</td>\n",
              "      <td>35783912</td>\n",
              "      <td>Pi &amp; Leo</td>\n",
              "      <td>Bronx</td>\n",
              "      <td>Fordham</td>\n",
              "      <td>40.86427</td>\n",
              "      <td>-73.89215</td>\n",
              "      <td>Private room</td>\n",
              "      <td>39.0</td>\n",
              "      <td>2</td>\n",
              "      <td>1.0</td>\n",
              "      <td>2019-07-01</td>\n",
              "      <td>1.00</td>\n",
              "      <td>175</td>\n",
              "      <td>2019</td>\n",
              "    </tr>\n",
              "    <tr>\n",
              "      <th>9</th>\n",
              "      <td>35877559</td>\n",
              "      <td>cozy private room near fordham university bron...</td>\n",
              "      <td>35783912</td>\n",
              "      <td>Pi &amp; Leo</td>\n",
              "      <td>Bronx</td>\n",
              "      <td>Fordham</td>\n",
              "      <td>40.86249</td>\n",
              "      <td>-73.89234</td>\n",
              "      <td>Private room</td>\n",
              "      <td>39.0</td>\n",
              "      <td>2</td>\n",
              "      <td>1.0</td>\n",
              "      <td>2019-07-07</td>\n",
              "      <td>1.00</td>\n",
              "      <td>180</td>\n",
              "      <td>2019</td>\n",
              "    </tr>\n",
              "  </tbody>\n",
              "</table>\n",
              "</div>\n",
              "    <div class=\"colab-df-buttons\">\n",
              "\n",
              "  <div class=\"colab-df-container\">\n",
              "    <button class=\"colab-df-convert\" onclick=\"convertToInteractive('df-2ff001d8-62b9-4189-a427-04a6956abd49')\"\n",
              "            title=\"Convert this dataframe to an interactive table.\"\n",
              "            style=\"display:none;\">\n",
              "\n",
              "  <svg xmlns=\"http://www.w3.org/2000/svg\" height=\"24px\" viewBox=\"0 -960 960 960\">\n",
              "    <path d=\"M120-120v-720h720v720H120Zm60-500h600v-160H180v160Zm220 220h160v-160H400v160Zm0 220h160v-160H400v160ZM180-400h160v-160H180v160Zm440 0h160v-160H620v160ZM180-180h160v-160H180v160Zm440 0h160v-160H620v160Z\"/>\n",
              "  </svg>\n",
              "    </button>\n",
              "\n",
              "  <style>\n",
              "    .colab-df-container {\n",
              "      display:flex;\n",
              "      gap: 12px;\n",
              "    }\n",
              "\n",
              "    .colab-df-convert {\n",
              "      background-color: #E8F0FE;\n",
              "      border: none;\n",
              "      border-radius: 50%;\n",
              "      cursor: pointer;\n",
              "      display: none;\n",
              "      fill: #1967D2;\n",
              "      height: 32px;\n",
              "      padding: 0 0 0 0;\n",
              "      width: 32px;\n",
              "    }\n",
              "\n",
              "    .colab-df-convert:hover {\n",
              "      background-color: #E2EBFA;\n",
              "      box-shadow: 0px 1px 2px rgba(60, 64, 67, 0.3), 0px 1px 3px 1px rgba(60, 64, 67, 0.15);\n",
              "      fill: #174EA6;\n",
              "    }\n",
              "\n",
              "    .colab-df-buttons div {\n",
              "      margin-bottom: 4px;\n",
              "    }\n",
              "\n",
              "    [theme=dark] .colab-df-convert {\n",
              "      background-color: #3B4455;\n",
              "      fill: #D2E3FC;\n",
              "    }\n",
              "\n",
              "    [theme=dark] .colab-df-convert:hover {\n",
              "      background-color: #434B5C;\n",
              "      box-shadow: 0px 1px 3px 1px rgba(0, 0, 0, 0.15);\n",
              "      filter: drop-shadow(0px 1px 2px rgba(0, 0, 0, 0.3));\n",
              "      fill: #FFFFFF;\n",
              "    }\n",
              "  </style>\n",
              "\n",
              "    <script>\n",
              "      const buttonEl =\n",
              "        document.querySelector('#df-2ff001d8-62b9-4189-a427-04a6956abd49 button.colab-df-convert');\n",
              "      buttonEl.style.display =\n",
              "        google.colab.kernel.accessAllowed ? 'block' : 'none';\n",
              "\n",
              "      async function convertToInteractive(key) {\n",
              "        const element = document.querySelector('#df-2ff001d8-62b9-4189-a427-04a6956abd49');\n",
              "        const dataTable =\n",
              "          await google.colab.kernel.invokeFunction('convertToInteractive',\n",
              "                                                    [key], {});\n",
              "        if (!dataTable) return;\n",
              "\n",
              "        const docLinkHtml = 'Like what you see? Visit the ' +\n",
              "          '<a target=\"_blank\" href=https://colab.research.google.com/notebooks/data_table.ipynb>data table notebook</a>'\n",
              "          + ' to learn more about interactive tables.';\n",
              "        element.innerHTML = '';\n",
              "        dataTable['output_type'] = 'display_data';\n",
              "        await google.colab.output.renderOutput(dataTable, element);\n",
              "        const docLink = document.createElement('div');\n",
              "        docLink.innerHTML = docLinkHtml;\n",
              "        element.appendChild(docLink);\n",
              "      }\n",
              "    </script>\n",
              "  </div>\n",
              "\n",
              "\n",
              "<div id=\"df-d60b5da8-0ac4-4b21-a5e9-41c0847d305e\">\n",
              "  <button class=\"colab-df-quickchart\" onclick=\"quickchart('df-d60b5da8-0ac4-4b21-a5e9-41c0847d305e')\"\n",
              "            title=\"Suggest charts.\"\n",
              "            style=\"display:none;\">\n",
              "\n",
              "<svg xmlns=\"http://www.w3.org/2000/svg\" height=\"24px\"viewBox=\"0 0 24 24\"\n",
              "     width=\"24px\">\n",
              "    <g>\n",
              "        <path d=\"M19 3H5c-1.1 0-2 .9-2 2v14c0 1.1.9 2 2 2h14c1.1 0 2-.9 2-2V5c0-1.1-.9-2-2-2zM9 17H7v-7h2v7zm4 0h-2V7h2v10zm4 0h-2v-4h2v4z\"/>\n",
              "    </g>\n",
              "</svg>\n",
              "  </button>\n",
              "\n",
              "<style>\n",
              "  .colab-df-quickchart {\n",
              "      --bg-color: #E8F0FE;\n",
              "      --fill-color: #1967D2;\n",
              "      --hover-bg-color: #E2EBFA;\n",
              "      --hover-fill-color: #174EA6;\n",
              "      --disabled-fill-color: #AAA;\n",
              "      --disabled-bg-color: #DDD;\n",
              "  }\n",
              "\n",
              "  [theme=dark] .colab-df-quickchart {\n",
              "      --bg-color: #3B4455;\n",
              "      --fill-color: #D2E3FC;\n",
              "      --hover-bg-color: #434B5C;\n",
              "      --hover-fill-color: #FFFFFF;\n",
              "      --disabled-bg-color: #3B4455;\n",
              "      --disabled-fill-color: #666;\n",
              "  }\n",
              "\n",
              "  .colab-df-quickchart {\n",
              "    background-color: var(--bg-color);\n",
              "    border: none;\n",
              "    border-radius: 50%;\n",
              "    cursor: pointer;\n",
              "    display: none;\n",
              "    fill: var(--fill-color);\n",
              "    height: 32px;\n",
              "    padding: 0;\n",
              "    width: 32px;\n",
              "  }\n",
              "\n",
              "  .colab-df-quickchart:hover {\n",
              "    background-color: var(--hover-bg-color);\n",
              "    box-shadow: 0 1px 2px rgba(60, 64, 67, 0.3), 0 1px 3px 1px rgba(60, 64, 67, 0.15);\n",
              "    fill: var(--button-hover-fill-color);\n",
              "  }\n",
              "\n",
              "  .colab-df-quickchart-complete:disabled,\n",
              "  .colab-df-quickchart-complete:disabled:hover {\n",
              "    background-color: var(--disabled-bg-color);\n",
              "    fill: var(--disabled-fill-color);\n",
              "    box-shadow: none;\n",
              "  }\n",
              "\n",
              "  .colab-df-spinner {\n",
              "    border: 2px solid var(--fill-color);\n",
              "    border-color: transparent;\n",
              "    border-bottom-color: var(--fill-color);\n",
              "    animation:\n",
              "      spin 1s steps(1) infinite;\n",
              "  }\n",
              "\n",
              "  @keyframes spin {\n",
              "    0% {\n",
              "      border-color: transparent;\n",
              "      border-bottom-color: var(--fill-color);\n",
              "      border-left-color: var(--fill-color);\n",
              "    }\n",
              "    20% {\n",
              "      border-color: transparent;\n",
              "      border-left-color: var(--fill-color);\n",
              "      border-top-color: var(--fill-color);\n",
              "    }\n",
              "    30% {\n",
              "      border-color: transparent;\n",
              "      border-left-color: var(--fill-color);\n",
              "      border-top-color: var(--fill-color);\n",
              "      border-right-color: var(--fill-color);\n",
              "    }\n",
              "    40% {\n",
              "      border-color: transparent;\n",
              "      border-right-color: var(--fill-color);\n",
              "      border-top-color: var(--fill-color);\n",
              "    }\n",
              "    60% {\n",
              "      border-color: transparent;\n",
              "      border-right-color: var(--fill-color);\n",
              "    }\n",
              "    80% {\n",
              "      border-color: transparent;\n",
              "      border-right-color: var(--fill-color);\n",
              "      border-bottom-color: var(--fill-color);\n",
              "    }\n",
              "    90% {\n",
              "      border-color: transparent;\n",
              "      border-bottom-color: var(--fill-color);\n",
              "    }\n",
              "  }\n",
              "</style>\n",
              "\n",
              "  <script>\n",
              "    async function quickchart(key) {\n",
              "      const quickchartButtonEl =\n",
              "        document.querySelector('#' + key + ' button');\n",
              "      quickchartButtonEl.disabled = true;  // To prevent multiple clicks.\n",
              "      quickchartButtonEl.classList.add('colab-df-spinner');\n",
              "      try {\n",
              "        const charts = await google.colab.kernel.invokeFunction(\n",
              "            'suggestCharts', [key], {});\n",
              "      } catch (error) {\n",
              "        console.error('Error during call to suggestCharts:', error);\n",
              "      }\n",
              "      quickchartButtonEl.classList.remove('colab-df-spinner');\n",
              "      quickchartButtonEl.classList.add('colab-df-quickchart-complete');\n",
              "    }\n",
              "    (() => {\n",
              "      let quickchartButtonEl =\n",
              "        document.querySelector('#df-d60b5da8-0ac4-4b21-a5e9-41c0847d305e button');\n",
              "      quickchartButtonEl.style.display =\n",
              "        google.colab.kernel.accessAllowed ? 'block' : 'none';\n",
              "    })();\n",
              "  </script>\n",
              "</div>\n",
              "    </div>\n",
              "  </div>\n"
            ]
          },
          "metadata": {},
          "execution_count": 92
        }
      ]
    },
    {
      "cell_type": "code",
      "source": [],
      "metadata": {
        "id": "x-XxJ_XgDkqz"
      },
      "execution_count": null,
      "outputs": []
    }
  ]
}